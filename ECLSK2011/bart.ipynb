{
 "cells": [
  {
   "cell_type": "code",
   "execution_count": 1,
   "metadata": {},
   "outputs": [
    {
     "name": "stderr",
     "output_type": "stream",
     "text": [
      "WARNING (pytensor.tensor.blas): Using NumPy C-API based implementation for BLAS functions.\n"
     ]
    }
   ],
   "source": [
    "from Taweret.core.base_model import BaseModel\n",
    "import numpy as np\n",
    "import pymc as pm\n",
    "import pandas as pd\n",
    "from sklearn.metrics import mean_squared_error\n",
    "from Taweret.core.base_mixer import BaseMixer\n",
    "from math import sqrt\n",
    "from scipy.optimize import minimize\n",
    "import logging\n",
    "from Taweret.mix.trees import Trees\n",
    "import bambi as bmb\n",
    "import arviz as az\n",
    "import matplotlib.pyplot as plt\n",
    "from Taweret.mix.gaussian import Multivariate\n",
    "import time"
   ]
  },
  {
   "cell_type": "code",
   "execution_count": 2,
   "metadata": {},
   "outputs": [],
   "source": [
    "#Fixed random seed to ensure reproducibility and the possiblility for optimization\n",
    "RANDOM_SEED = 9572404\n",
    "rng = np.random.default_rng(RANDOM_SEED)"
   ]
  },
  {
   "cell_type": "code",
   "execution_count": 3,
   "metadata": {},
   "outputs": [],
   "source": [
    "# Defining to disable output later for ease of visibility\n",
    "logger = logging.getLogger(\"pymc\")\n",
    "# Disabling sampling messages\n",
    "logger.setLevel(logging.ERROR)"
   ]
  },
  {
   "cell_type": "code",
   "execution_count": 4,
   "metadata": {},
   "outputs": [],
   "source": [
    "# Load dataset\n",
    "PISA2018 = pd.read_csv(\"pisa2018.BayesBook.csv\")\n",
    "# Data processing: converting categorical values to numerical values\n",
    "PISA2018['Female'] = PISA2018['Female'].replace({'Female': 1.0, 'Male': 0.0})\n",
    "# Converting numerical to categorical values\n",
    "PISA2018['SchoolID'] = pd.Categorical(PISA2018['SchoolID']).codes"
   ]
  },
  {
   "cell_type": "code",
   "execution_count": 5,
   "metadata": {},
   "outputs": [],
   "source": [
    "variables = [\"Female\", \"ESCS\",\"METASUM\",\"PERFEED\",\"HOMEPOS\",\"ADAPTIVITY\",\"TEACHINT\",\n",
    "             \"ICTRES\",\"JOYREAD\",\"ATTLNACT\",\"COMPETE\",\"WORKMAST\",\"GFOFAIL\",\"SWBP\",\n",
    "             \"MASTGOAL\",\"BELONG\",\"SCREADCOMP\",\"SCREADDIFF\",\"PISADIFF\",\"PV1READ\", \"SchoolID\"]\n",
    "PISA2018 = PISA2018[variables]"
   ]
  },
  {
   "cell_type": "code",
   "execution_count": 6,
   "metadata": {},
   "outputs": [
    {
     "data": {
      "text/html": [
       "\n",
       "<style>\n",
       "    /* Turns off some styling */\n",
       "    progress {\n",
       "        /* gets rid of default border in Firefox and Opera. */\n",
       "        border: none;\n",
       "        /* Needs to be in here for Safari polyfill so background images work as expected. */\n",
       "        background-size: auto;\n",
       "    }\n",
       "    progress:not([value]), progress:not([value])::-webkit-progress-bar {\n",
       "        background: repeating-linear-gradient(45deg, #7e7e7e, #7e7e7e 10px, #5c5c5c 10px, #5c5c5c 20px);\n",
       "    }\n",
       "    .progress-bar-interrupted, .progress-bar-interrupted::-webkit-progress-bar {\n",
       "        background: #F44336;\n",
       "    }\n",
       "</style>\n"
      ],
      "text/plain": [
       "<IPython.core.display.HTML object>"
      ]
     },
     "metadata": {},
     "output_type": "display_data"
    },
    {
     "data": {
      "text/html": [
       "\n",
       "    <div>\n",
       "      <progress value='12000' class='' max='12000' style='width:300px; height:20px; vertical-align: middle;'></progress>\n",
       "      100.00% [12000/12000 01:17&lt;00:00 Sampling 4 chains, 0 divergences]\n",
       "    </div>\n",
       "    "
      ],
      "text/plain": [
       "<IPython.core.display.HTML object>"
      ]
     },
     "metadata": {},
     "output_type": "display_data"
    },
    {
     "name": "stdout",
     "output_type": "stream",
     "text": [
      "The RMSE for model 1 - PV1READ ~ Female + ESCS + HOMEPOS + ICTRES + (1 + ICTRES | SchoolID) is: 94.16605562627963\n",
      "Computation time: 123.25808453559875 seconds\n",
      "CPU times: total: 33.1 s\n",
      "Wall time: 2min 3s\n"
     ]
    }
   ],
   "source": [
    "%%time\n",
    "#PV1READ ~ Female + ESCS + HOMEPOS + ICTRES + (1 + ICTRES | SchoolID)\n",
    "start_time = time.time()\n",
    "model1 = bmb.Model(\"PV1READ ~ Female + ESCS + HOMEPOS + ICTRES + (1 + ICTRES | SchoolID)\", PISA2018, categorical = [\"SchoolID\"])\n",
    "priors = {\"Intercept\": bmb.Prior(\"Normal\", mu=0, sigma=100),\n",
    "          \"Female\": bmb.Prior(\"Normal\", mu=0, sigma=10),\n",
    "          \"ESCS\": bmb.Prior(\"Normal\", mu=np.mean(PISA2018[\"ESCS\"]), sigma=np.std(PISA2018[\"ESCS\"])),\n",
    "          \"HOMEPOS\": bmb.Prior(\"Normal\", mu=np.mean(PISA2018[\"HOMEPOS\"]), sigma=100),\n",
    "          \"ICTRES\": bmb.Prior(\"Normal\", mu=np.mean(PISA2018[\"ICTRES\"]), sigma=np.std(PISA2018[\"ICTRES\"])),\n",
    "          \"1|SchoolID\": bmb.Prior(\"Normal\", mu=0, sigma=bmb.Prior(\"HalfNormal\", sigma=100)),\n",
    "          \"ICTRES|SchoolID\": bmb.Prior(\"Normal\", mu=0, sigma=bmb.Prior(\"HalfNormal\", sigma=100)),\n",
    "          \"sigma\": bmb.Prior(\"HalfNormal\", sigma=10)}\n",
    "model1.set_priors(priors = priors)\n",
    "\n",
    "trace1 = model1.fit(draws=2000, random_seed=RANDOM_SEED)\n",
    "\n",
    "post_pred1 = model1.predict(trace1,data = PISA2018, inplace=False).posterior[\"PV1READ_mean\"]\n",
    "mean_pred = np.array(post_pred1.mean(dim=[\"chain\", \"draw\"]))\n",
    "print(f'The RMSE for model 1 - PV1READ ~ Female + ESCS + HOMEPOS + ICTRES + (1 + ICTRES | SchoolID) is: {sqrt(mean_squared_error(PISA2018[\"PV1READ\"], mean_pred))}')\n",
    "\n",
    "\n",
    "end_time = time.time()\n",
    "elapsed_time = end_time - start_time\n",
    "\n",
    "print(f\"Computation time: {elapsed_time} seconds\")\n"
   ]
  },
  {
   "cell_type": "code",
   "execution_count": 7,
   "metadata": {},
   "outputs": [
    {
     "data": {
      "text/html": [
       "\n",
       "<style>\n",
       "    /* Turns off some styling */\n",
       "    progress {\n",
       "        /* gets rid of default border in Firefox and Opera. */\n",
       "        border: none;\n",
       "        /* Needs to be in here for Safari polyfill so background images work as expected. */\n",
       "        background-size: auto;\n",
       "    }\n",
       "    progress:not([value]), progress:not([value])::-webkit-progress-bar {\n",
       "        background: repeating-linear-gradient(45deg, #7e7e7e, #7e7e7e 10px, #5c5c5c 10px, #5c5c5c 20px);\n",
       "    }\n",
       "    .progress-bar-interrupted, .progress-bar-interrupted::-webkit-progress-bar {\n",
       "        background: #F44336;\n",
       "    }\n",
       "</style>\n"
      ],
      "text/plain": [
       "<IPython.core.display.HTML object>"
      ]
     },
     "metadata": {},
     "output_type": "display_data"
    },
    {
     "data": {
      "text/html": [
       "\n",
       "    <div>\n",
       "      <progress value='12000' class='' max='12000' style='width:300px; height:20px; vertical-align: middle;'></progress>\n",
       "      100.00% [12000/12000 00:59&lt;00:00 Sampling 4 chains, 0 divergences]\n",
       "    </div>\n",
       "    "
      ],
      "text/plain": [
       "<IPython.core.display.HTML object>"
      ]
     },
     "metadata": {},
     "output_type": "display_data"
    },
    {
     "name": "stdout",
     "output_type": "stream",
     "text": [
      "The RMSE for model 2 - PV1READ ~ JOYREAD + PISADIFF + SCREADCOMP + SCREADDIFF + (1|SchoolID) is: 86.02700914019462\n",
      "Computation time: 94.735032081604 seconds\n",
      "CPU times: total: 22.5 s\n",
      "Wall time: 1min 34s\n"
     ]
    }
   ],
   "source": [
    "%%time\n",
    "#PV1READ ~ JOYREAD + PISADIFF + SCREADCOMP + SCREADDIFF + (1|SchoolID)\n",
    "start_time = time.time()\n",
    "model2 = bmb.Model(\"PV1READ ~ JOYREAD + PISADIFF + SCREADCOMP + SCREADDIFF + (1|SchoolID)\", PISA2018, categorical = [\"SchoolID\"])\n",
    "\n",
    "priors = {\"Intercept\": bmb.Prior(\"Normal\", mu=0, sigma=100),\n",
    "          \"JOYREAD\": bmb.Prior(\"Normal\", mu=np.mean(PISA2018[\"JOYREAD\"]), sigma=np.std(PISA2018[\"JOYREAD\"])),\n",
    "          \"PISADIFF\": bmb.Prior(\"Normal\", mu=0, sigma=100),\n",
    "          \"SCREADCOMP\": bmb.Prior(\"Normal\", mu=np.mean(PISA2018[\"SCREADCOMP\"]), sigma=10),\n",
    "          \"SCREADDIFF\": bmb.Prior(\"Normal\", mu=np.mean(PISA2018[\"SCREADDIFF\"]), sigma=np.std(PISA2018[\"SCREADDIFF\"])),\n",
    "          \"1|SchoolID\": bmb.Prior(\"Normal\", mu=0, sigma=bmb.Prior(\"HalfNormal\", sigma=100)),\n",
    "          \"sigma\": bmb.Prior(\"HalfNormal\", sigma=10)}\n",
    "model2.set_priors(priors = priors)\n",
    "\n",
    "trace2 = model2.fit(draws=2000, random_seed=RANDOM_SEED)\n",
    "\n",
    "post_pred2 = model2.predict(trace2, data = PISA2018, inplace=False).posterior[\"PV1READ_mean\"]\n",
    "mean_pred = np.array(post_pred2.mean(dim=[\"chain\", \"draw\"]))\n",
    "print(f'The RMSE for model 2 - PV1READ ~ JOYREAD + PISADIFF + SCREADCOMP + SCREADDIFF + (1|SchoolID) is: {sqrt(mean_squared_error(PISA2018[\"PV1READ\"], mean_pred))}')\n",
    "\n",
    "end_time = time.time()\n",
    "elapsed_time = end_time - start_time\n",
    "\n",
    "print(f\"Computation time: {elapsed_time} seconds\")\n"
   ]
  },
  {
   "cell_type": "code",
   "execution_count": 8,
   "metadata": {},
   "outputs": [
    {
     "data": {
      "text/html": [
       "\n",
       "<style>\n",
       "    /* Turns off some styling */\n",
       "    progress {\n",
       "        /* gets rid of default border in Firefox and Opera. */\n",
       "        border: none;\n",
       "        /* Needs to be in here for Safari polyfill so background images work as expected. */\n",
       "        background-size: auto;\n",
       "    }\n",
       "    progress:not([value]), progress:not([value])::-webkit-progress-bar {\n",
       "        background: repeating-linear-gradient(45deg, #7e7e7e, #7e7e7e 10px, #5c5c5c 10px, #5c5c5c 20px);\n",
       "    }\n",
       "    .progress-bar-interrupted, .progress-bar-interrupted::-webkit-progress-bar {\n",
       "        background: #F44336;\n",
       "    }\n",
       "</style>\n"
      ],
      "text/plain": [
       "<IPython.core.display.HTML object>"
      ]
     },
     "metadata": {},
     "output_type": "display_data"
    },
    {
     "data": {
      "text/html": [
       "\n",
       "    <div>\n",
       "      <progress value='12000' class='' max='12000' style='width:300px; height:20px; vertical-align: middle;'></progress>\n",
       "      100.00% [12000/12000 02:33&lt;00:00 Sampling 4 chains, 0 divergences]\n",
       "    </div>\n",
       "    "
      ],
      "text/plain": [
       "<IPython.core.display.HTML object>"
      ]
     },
     "metadata": {},
     "output_type": "display_data"
    },
    {
     "name": "stdout",
     "output_type": "stream",
     "text": [
      "The RMSE for model 3 - PV1READ ~ METASUM + GFOFAIL + MASTGOAL + SWBP + WORKMAST + ADAPTIVITY + COMPETE + (1|SchoolID) is: 91.30394364453704\n",
      "Computation time: 189.38602781295776 seconds\n",
      "CPU times: total: 42.8 s\n",
      "Wall time: 3min 9s\n"
     ]
    }
   ],
   "source": [
    "%%time\n",
    "#PV1READ ~ METASUM + GFOFAIL + MASTGOAL + SWBP + WORKMAST + ADAPTIVITY + COMPETE + (1|SchoolID)\n",
    "start_time = time.time()\n",
    "model3 = bmb.Model(\"PV1READ ~ METASUM + GFOFAIL + MASTGOAL + SWBP + WORKMAST + ADAPTIVITY + COMPETE + (1|SchoolID)\", PISA2018, categorical = [\"SchoolID\"])\n",
    "\n",
    "priors = {\"Intercept\": bmb.Prior(\"Normal\", mu=0, sigma=100),\n",
    "          \"METASUM\": bmb.Prior(\"Normal\", mu=np.mean(PISA2018[\"METASUM\"]), sigma=np.std(PISA2018[\"METASUM\"])),\n",
    "          \"GFOFAIL\": bmb.Prior(\"Normal\", mu=0, sigma=100),\n",
    "          \"MASTGOAL\": bmb.Prior(\"Normal\", mu=np.mean(PISA2018[\"MASTGOAL\"]), sigma=10),\n",
    "          \"SWBP\": bmb.Prior(\"Normal\", mu=0, sigma=100),\n",
    "          \"WORKMAST\": bmb.Prior(\"Normal\", mu=np.mean(PISA2018[\"WORKMAST\"]), sigma=10),\n",
    "          \"ADAPTIVITY\": bmb.Prior(\"Normal\", mu=np.mean(PISA2018[\"ADAPTIVITY\"]), sigma=100),\n",
    "          \"COMPETE\": bmb.Prior(\"Normal\", mu=np.mean(PISA2018[\"COMPETE\"]), sigma=np.std(PISA2018[\"COMPETE\"])),\n",
    "          \"1|SchoolID\": bmb.Prior(\"Normal\", mu=0, sigma=bmb.Prior(\"HalfNormal\", sigma=100)),\n",
    "          \"sigma\": bmb.Prior(\"HalfNormal\", sigma=10)}\n",
    "model3.set_priors(priors = priors)\n",
    " \n",
    "trace3 = model3.fit(draws=2000, random_seed=RANDOM_SEED)\n",
    "\n",
    "post_pred3 = model3.predict(trace3, data = PISA2018, inplace=False).posterior[\"PV1READ_mean\"]\n",
    "mean_pred = np.array(post_pred3.mean(dim=[\"chain\", \"draw\"]))\n",
    "print(f'The RMSE for model 3 - PV1READ ~ METASUM + GFOFAIL + MASTGOAL + SWBP + WORKMAST + ADAPTIVITY + COMPETE + (1|SchoolID) is: {sqrt(mean_squared_error(PISA2018[\"PV1READ\"], mean_pred))}')\n",
    "\n",
    "\n",
    "end_time = time.time()\n",
    "elapsed_time = end_time - start_time\n",
    "\n",
    "print(f\"Computation time: {elapsed_time} seconds\")"
   ]
  },
  {
   "cell_type": "code",
   "execution_count": 9,
   "metadata": {},
   "outputs": [
    {
     "data": {
      "text/html": [
       "\n",
       "<style>\n",
       "    /* Turns off some styling */\n",
       "    progress {\n",
       "        /* gets rid of default border in Firefox and Opera. */\n",
       "        border: none;\n",
       "        /* Needs to be in here for Safari polyfill so background images work as expected. */\n",
       "        background-size: auto;\n",
       "    }\n",
       "    progress:not([value]), progress:not([value])::-webkit-progress-bar {\n",
       "        background: repeating-linear-gradient(45deg, #7e7e7e, #7e7e7e 10px, #5c5c5c 10px, #5c5c5c 20px);\n",
       "    }\n",
       "    .progress-bar-interrupted, .progress-bar-interrupted::-webkit-progress-bar {\n",
       "        background: #F44336;\n",
       "    }\n",
       "</style>\n"
      ],
      "text/plain": [
       "<IPython.core.display.HTML object>"
      ]
     },
     "metadata": {},
     "output_type": "display_data"
    },
    {
     "data": {
      "text/html": [
       "\n",
       "    <div>\n",
       "      <progress value='12000' class='' max='12000' style='width:300px; height:20px; vertical-align: middle;'></progress>\n",
       "      100.00% [12000/12000 01:24&lt;00:00 Sampling 4 chains, 0 divergences]\n",
       "    </div>\n",
       "    "
      ],
      "text/plain": [
       "<IPython.core.display.HTML object>"
      ]
     },
     "metadata": {},
     "output_type": "display_data"
    },
    {
     "name": "stdout",
     "output_type": "stream",
     "text": [
      "The RMSE for model 4 - PV1READ ~ PERFEED + TEACHINT + BELONG + (1 + TEACHINT | SchoolID) is: 94.7193720019732\n",
      "Computation time: 126.01985669136047 seconds\n",
      "CPU times: total: 30.6 s\n",
      "Wall time: 2min 6s\n"
     ]
    }
   ],
   "source": [
    "%%time\n",
    "#PV1READ ~ PERFEED + TEACHINT + BELONG + (1 + TEACHINT | SchoolID)\n",
    "start_time = time.time()\n",
    "model4 = bmb.Model(\"PV1READ ~ PERFEED + TEACHINT + BELONG + (1 + TEACHINT | SchoolID)\", PISA2018, categorical = [\"SchoolID\"])\n",
    "\n",
    "priors = {\"Intercept\": bmb.Prior(\"Normal\", mu=0, sigma=100),\n",
    "          \"PERFEED\": bmb.Prior(\"Normal\", mu=np.mean(PISA2018[\"PERFEED\"]), sigma=np.std(PISA2018[\"PERFEED\"])),\n",
    "          \"TEACHINT\": bmb.Prior(\"Normal\", mu=np.mean(PISA2018[\"TEACHINT\"]), sigma=np.std(PISA2018[\"TEACHINT\"])),\n",
    "          \"BELONG\": bmb.Prior(\"Normal\", mu=np.mean(PISA2018[\"BELONG\"]), sigma=100),\n",
    "          \"1|SchoolID\": bmb.Prior(\"Normal\", mu=0, sigma=bmb.Prior(\"HalfNormal\", sigma=100)),\n",
    "          \"TEACHINT|SchoolID\": bmb.Prior(\"Normal\", mu=0, sigma=bmb.Prior(\"HalfNormal\", sigma=100)),\n",
    "          \"sigma\": bmb.Prior(\"HalfNormal\", sigma=10)}\n",
    "model4.set_priors(priors = priors)\n",
    "\n",
    "trace4 = model4.fit(draws=2000, random_seed=RANDOM_SEED)\n",
    "\n",
    "post_pred4 = model4.predict(trace4, data = PISA2018, inplace=False).posterior[\"PV1READ_mean\"]\n",
    "mean_pred = np.array(post_pred4.mean(dim=[\"chain\", \"draw\"]))\n",
    "print(f'The RMSE for model 4 - PV1READ ~ PERFEED + TEACHINT + BELONG + (1 + TEACHINT | SchoolID) is: {sqrt(mean_squared_error(PISA2018[\"PV1READ\"], mean_pred))}')\n",
    "\n",
    "end_time = time.time()\n",
    "elapsed_time = end_time - start_time\n",
    "\n",
    "print(f\"Computation time: {elapsed_time} seconds\")"
   ]
  },
  {
   "cell_type": "code",
   "execution_count": 10,
   "metadata": {},
   "outputs": [],
   "source": [
    "# A wrapper class for the Bambi/PYMC models to be compatible with the Taweret framework\n",
    "class BMBWrapper(BaseModel):\n",
    "    def __init__(self, model, idata, posterior_predictive):\n",
    "        self.model = model\n",
    "        self.idata = idata\n",
    "        self.posterior_predictive = posterior_predictive\n",
    "        \n",
    "    def evaluate(self, model_parameters):\n",
    "        post_pred = self.model.predict(self.idata, data = model_parameters, inplace=False).posterior[self.posterior_predictive]\n",
    "        return np.array(post_pred.mean(dim=[\"chain\", \"draw\"])).reshape(-1, 1), np.sqrt(np.array(post_pred.var(dim=[\"chain\", \"draw\"]))).flatten().reshape(-1, 1)\n",
    "\n",
    "    \n",
    "    def log_likelihood_elementwise(self,x_exp, y_exp, y_err, model_params):\n",
    "        y = self.evaluate(model_params)[0]\n",
    "        \n",
    "        return np.exp(-(y - y_exp) **2 / (2 * y_err ** 2)) \\\n",
    "            / np.sqrt(2 * np.pi * y_err ** 2)\n",
    "    \n",
    "    def set_prior(self, prior_dict):\n",
    "        self.model.set_priors(priors=prior_dict)\n"
   ]
  },
  {
   "cell_type": "code",
   "execution_count": 11,
   "metadata": {},
   "outputs": [],
   "source": [
    "models = {\n",
    "            \"1\": BMBWrapper(model1, trace1, \"PV1READ_mean\"),\n",
    "            \"2\": BMBWrapper(model2, trace2, \"PV1READ_mean\"),\n",
    "            \"3\": BMBWrapper(model3, trace3, \"PV1READ_mean\"),\n",
    "            \"4\": BMBWrapper(model4, trace4, \"PV1READ_mean\")\n",
    "}\n"
   ]
  },
  {
   "cell_type": "code",
   "execution_count": 15,
   "metadata": {},
   "outputs": [
    {
     "name": "stdout",
     "output_type": "stream",
     "text": [
      "Results stored in temporary path: C:\\Users\\EVANED~1\\AppData\\Local\\Temp\\openbtpy_r9529koz\n",
      "Running model...\n"
     ]
    },
    {
     "ename": "FileNotFoundError",
     "evalue": "Cannot find openbt executables. Please specify the path using the argument local_openbt_path in the constructor.",
     "output_type": "error",
     "traceback": [
      "\u001b[1;31m---------------------------------------------------------------------------\u001b[0m",
      "\u001b[1;31mFileNotFoundError\u001b[0m                         Traceback (most recent call last)",
      "Cell \u001b[1;32mIn[15], line 9\u001b[0m\n\u001b[0;32m      6\u001b[0m mix\u001b[38;5;241m.\u001b[39mset_prior(k\u001b[38;5;241m=\u001b[39m\u001b[38;5;241m2.5\u001b[39m,ntree\u001b[38;5;241m=\u001b[39m\u001b[38;5;241m30\u001b[39m,overallnu\u001b[38;5;241m=\u001b[39m\u001b[38;5;241m5\u001b[39m,overallsd\u001b[38;5;241m=\u001b[39m\u001b[38;5;241m0.01\u001b[39m,inform_prior\u001b[38;5;241m=\u001b[39m\u001b[38;5;28;01mFalse\u001b[39;00m)\n\u001b[0;32m      8\u001b[0m \u001b[38;5;66;03m# Train the model\u001b[39;00m\n\u001b[1;32m----> 9\u001b[0m fit \u001b[38;5;241m=\u001b[39m mix\u001b[38;5;241m.\u001b[39mtrain(X\u001b[38;5;241m=\u001b[39mPISA2018, y\u001b[38;5;241m=\u001b[39mnp\u001b[38;5;241m.\u001b[39marray(PISA2018[\u001b[38;5;124m\"\u001b[39m\u001b[38;5;124mPV1READ\u001b[39m\u001b[38;5;124m\"\u001b[39m]), ndpost \u001b[38;5;241m=\u001b[39m \u001b[38;5;241m10000\u001b[39m, nadapt \u001b[38;5;241m=\u001b[39m \u001b[38;5;241m2000\u001b[39m, nskip \u001b[38;5;241m=\u001b[39m \u001b[38;5;241m2000\u001b[39m, adaptevery \u001b[38;5;241m=\u001b[39m \u001b[38;5;241m500\u001b[39m, minnumbot \u001b[38;5;241m=\u001b[39m \u001b[38;5;241m4\u001b[39m)\n",
      "File \u001b[1;32mc:\\Users\\Evan Edwards\\Documents\\GitHub\\URS23_BayesML\\Taweret\\mix\\trees.py:413\u001b[0m, in \u001b[0;36mTrees.train\u001b[1;34m(self, X, y, **kwargs)\u001b[0m\n\u001b[0;32m    411\u001b[0m \u001b[38;5;28mprint\u001b[39m(\u001b[38;5;124m\"\u001b[39m\u001b[38;5;124mRunning model...\u001b[39m\u001b[38;5;124m\"\u001b[39m)\n\u001b[0;32m    412\u001b[0m cmd \u001b[38;5;241m=\u001b[39m \u001b[38;5;124m\"\u001b[39m\u001b[38;5;124mopenbtcli\u001b[39m\u001b[38;5;124m\"\u001b[39m\n\u001b[1;32m--> 413\u001b[0m \u001b[38;5;28mself\u001b[39m\u001b[38;5;241m.\u001b[39m_run_model(cmd)\n\u001b[0;32m    415\u001b[0m \u001b[38;5;66;03m# See which attributes are returned/can be returned here\u001b[39;00m\n\u001b[0;32m    416\u001b[0m \u001b[38;5;66;03m# Return attributes to be saved as a separate fit object:\u001b[39;00m\n\u001b[0;32m    417\u001b[0m \u001b[38;5;66;03m# Missing the influence attribute from the R code (skip for now)\u001b[39;00m\n\u001b[0;32m    418\u001b[0m res \u001b[38;5;241m=\u001b[39m {}\n",
      "File \u001b[1;32mc:\\Users\\Evan Edwards\\Documents\\GitHub\\URS23_BayesML\\Taweret\\mix\\trees.py:850\u001b[0m, in \u001b[0;36mTrees._run_model\u001b[1;34m(self, cmd)\u001b[0m\n\u001b[0;32m    848\u001b[0m sh \u001b[38;5;241m=\u001b[39m shutil\u001b[38;5;241m.\u001b[39mwhich(cmd, path\u001b[38;5;241m=\u001b[39m\u001b[38;5;28mself\u001b[39m\u001b[38;5;241m.\u001b[39mlocal_openbt_path)\n\u001b[0;32m    849\u001b[0m \u001b[38;5;28;01mif\u001b[39;00m sh \u001b[38;5;129;01mis\u001b[39;00m \u001b[38;5;28;01mNone\u001b[39;00m:\n\u001b[1;32m--> 850\u001b[0m     \u001b[38;5;28;01mraise\u001b[39;00m \u001b[38;5;167;01mFileNotFoundError\u001b[39;00m(\n\u001b[0;32m    851\u001b[0m         \u001b[38;5;124m\"\u001b[39m\u001b[38;5;124mCannot find openbt executables. Please specify the path using the argument local_openbt_path in the constructor.\u001b[39m\u001b[38;5;124m\"\u001b[39m)\n\u001b[0;32m    852\u001b[0m \u001b[38;5;28;01melse\u001b[39;00m:\n\u001b[0;32m    853\u001b[0m     cmd \u001b[38;5;241m=\u001b[39m sh\n",
      "\u001b[1;31mFileNotFoundError\u001b[0m: Cannot find openbt executables. Please specify the path using the argument local_openbt_path in the constructor."
     ]
    }
   ],
   "source": [
    "# Fit the BMM Model\n",
    "# Initialize the Trees class instance\n",
    "mix = Trees(model_dict = models, local_openbt_path = \"//wsl.localhost/Ubuntu-22.04\")\n",
    "\n",
    "# Set prior information\n",
    "mix.set_prior(k=2.5,ntree=30,overallnu=5,overallsd=0.01,inform_prior=False)\n",
    "\n",
    "# Train the model\n",
    "fit = mix.train(X=PISA2018, y=np.array(PISA2018[\"PV1READ\"]), ndpost = 10000, nadapt = 2000, nskip = 2000, adaptevery = 500, minnumbot = 4)"
   ]
  }
 ],
 "metadata": {
  "kernelspec": {
   "display_name": "base",
   "language": "python",
   "name": "python3"
  },
  "language_info": {
   "codemirror_mode": {
    "name": "ipython",
    "version": 3
   },
   "file_extension": ".py",
   "mimetype": "text/x-python",
   "name": "python",
   "nbconvert_exporter": "python",
   "pygments_lexer": "ipython3",
   "version": "3.11.5"
  }
 },
 "nbformat": 4,
 "nbformat_minor": 2
}
