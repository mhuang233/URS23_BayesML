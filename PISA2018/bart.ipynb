{
 "cells": [
  {
   "cell_type": "code",
   "execution_count": 1,
   "metadata": {},
   "outputs": [
    {
     "name": "stderr",
     "output_type": "stream",
     "text": [
      "WARNING (pytensor.tensor.blas): Using NumPy C-API based implementation for BLAS functions.\n"
     ]
    }
   ],
   "source": [
    "from Taweret.core.base_model import BaseModel\n",
    "import numpy as np\n",
    "import pymc as pm\n",
    "import pandas as pd\n",
    "from sklearn.metrics import mean_squared_error\n",
    "from Taweret.core.base_mixer import BaseMixer\n",
    "from math import sqrt\n",
    "from scipy.optimize import minimize\n",
    "import logging\n",
    "from Taweret.mix.trees import Trees\n",
    "import bambi as bmb\n",
    "import arviz as az\n",
    "import matplotlib.pyplot as plt\n",
    "from Taweret.mix.gaussian import Multivariate"
   ]
  },
  {
   "cell_type": "code",
   "execution_count": 2,
   "metadata": {},
   "outputs": [],
   "source": [
    "import time\n",
    "import bambi as bmb\n",
    "import numpy as np\n",
    "import pandas as pd\n",
    "import arviz as az\n",
    "from scipy.stats import zscore\n",
    "from numpy import mean, std\n",
    "import matplotlib.pyplot as plt\n",
    "from math import sqrt\n",
    "from sklearn.metrics import mean_squared_error\n",
    "from sklearn.model_selection import train_test_split"
   ]
  },
  {
   "cell_type": "code",
   "execution_count": 3,
   "metadata": {},
   "outputs": [],
   "source": [
    "#Fixed random seed to ensure reproducibility and the possiblility for optimization\n",
    "RANDOM_SEED = 9572404\n",
    "rng = np.random.default_rng(RANDOM_SEED)"
   ]
  },
  {
   "cell_type": "code",
   "execution_count": 4,
   "metadata": {},
   "outputs": [],
   "source": [
    "# Defining to disable output later for ease of visibility\n",
    "logger = logging.getLogger(\"pymc\")\n",
    "# Disabling sampling messages\n",
    "logger.setLevel(logging.ERROR)"
   ]
  },
  {
   "cell_type": "code",
   "execution_count": 5,
   "metadata": {},
   "outputs": [],
   "source": [
    "# Load dataset\n",
    "PISA2018 = pd.read_csv(\"pisa2018.BayesBook.csv\")\n",
    "# Data processing: converting categorical values to numerical values\n",
    "PISA2018['Female'] = PISA2018['Female'].replace({'Female': 1.0, 'Male': 0.0})\n",
    "# Converting numerical to categorical values\n",
    "PISA2018['SchoolID'] = pd.Categorical(PISA2018['SchoolID']).codes\n",
    "PISA2018 = PISA2018[[\"PV1READ\", \"Female\",\"ESCS\",\"HOMEPOS\",\"ICTRES\",\"JOYREAD\",\"PISADIFF\",\"SCREADCOMP\",\"SCREADDIFF\",\"METASUM\",\"GFOFAIL\",\"MASTGOAL\",\"SWBP\",\n",
    "                     \"WORKMAST\",\"ADAPTIVITY\",\"COMPETE\",\"PERFEED\",\"TEACHINT\",\"BELONG\",\"SchoolID\"]]"
   ]
  },
  {
   "cell_type": "code",
   "execution_count": 6,
   "metadata": {},
   "outputs": [],
   "source": [
    "train, test = train_test_split(PISA2018, test_size = 0.1)"
   ]
  },
  {
   "cell_type": "code",
   "execution_count": 7,
   "metadata": {},
   "outputs": [
    {
     "data": {
      "text/html": [
       "\n",
       "<style>\n",
       "    /* Turns off some styling */\n",
       "    progress {\n",
       "        /* gets rid of default border in Firefox and Opera. */\n",
       "        border: none;\n",
       "        /* Needs to be in here for Safari polyfill so background images work as expected. */\n",
       "        background-size: auto;\n",
       "    }\n",
       "    progress:not([value]), progress:not([value])::-webkit-progress-bar {\n",
       "        background: repeating-linear-gradient(45deg, #7e7e7e, #7e7e7e 10px, #5c5c5c 10px, #5c5c5c 20px);\n",
       "    }\n",
       "    .progress-bar-interrupted, .progress-bar-interrupted::-webkit-progress-bar {\n",
       "        background: #F44336;\n",
       "    }\n",
       "</style>\n"
      ],
      "text/plain": [
       "<IPython.core.display.HTML object>"
      ]
     },
     "metadata": {},
     "output_type": "display_data"
    },
    {
     "data": {
      "text/html": [
       "\n",
       "    <div>\n",
       "      <progress value='9000' class='' max='9000' style='width:300px; height:20px; vertical-align: middle;'></progress>\n",
       "      100.00% [9000/9000 10:25&lt;00:00 Sampling 3 chains, 0 divergences]\n",
       "    </div>\n",
       "    "
      ],
      "text/plain": [
       "<IPython.core.display.HTML object>"
      ]
     },
     "metadata": {},
     "output_type": "display_data"
    },
    {
     "name": "stdout",
     "output_type": "stream",
     "text": [
      "The RMSE for model 1 - PV1READ ~ Female + ESCS + HOMEPOS + ICTRES + (1 + ICTRES | SchoolID) is: 94.15919008828256\n",
      "CPU times: user 32.3 s, sys: 24.5 s, total: 56.8 s\n",
      "Wall time: 10min 39s\n"
     ]
    }
   ],
   "source": [
    "%%time\n",
    "#PV1READ ~ Female + ESCS + HOMEPOS + ICTRES + (1 + ICTRES | SchoolID)\n",
    "model1 = bmb.Model(\"PV1READ ~ Female + ESCS + HOMEPOS + ICTRES + (1 + ICTRES | SchoolID)\", PISA2018, categorical = [\"SchoolID\"])\n",
    "priors = {\"Intercept\": bmb.Prior(\"Normal\", mu=0, sigma=100),\n",
    "          \"Female\": bmb.Prior(\"Normal\", mu=0, sigma=10),\n",
    "          \"ESCS\": bmb.Prior(\"Normal\", mu=np.mean(PISA2018[\"ESCS\"]), sigma=np.std(PISA2018[\"ESCS\"])),\n",
    "          \"HOMEPOS\": bmb.Prior(\"Normal\", mu=np.mean(PISA2018[\"HOMEPOS\"]), sigma=100),\n",
    "          \"ICTRES\": bmb.Prior(\"Normal\", mu=np.mean(PISA2018[\"ICTRES\"]), sigma=np.std(PISA2018[\"ICTRES\"])),\n",
    "          \"1|SchoolID\": bmb.Prior(\"Normal\", mu=0, sigma=bmb.Prior(\"HalfNormal\", sigma=100)),\n",
    "          \"ICTRES|SchoolID\": bmb.Prior(\"Normal\", mu=0, sigma=bmb.Prior(\"HalfNormal\", sigma=100)),\n",
    "          \"sigma\": bmb.Prior(\"HalfNormal\", sigma=10)}\n",
    "model1.set_priors(priors = priors)\n",
    "\n",
    "trace1 = model1.fit(draws=2000, random_seed=RANDOM_SEED)\n",
    "\n",
    "post_pred = model1.predict(trace1,data = PISA2018, inplace=False).posterior[\"PV1READ_mean\"]\n",
    "mean_pred = np.array(post_pred.mean(dim=[\"chain\", \"draw\"]))\n",
    "print(f'The RMSE for model 1 - PV1READ ~ Female + ESCS + HOMEPOS + ICTRES + (1 + ICTRES | SchoolID) is: {sqrt(mean_squared_error(PISA2018[\"PV1READ\"], mean_pred))}')"
   ]
  },
  {
   "cell_type": "code",
   "execution_count": 8,
   "metadata": {},
   "outputs": [
    {
     "data": {
      "text/html": [
       "\n",
       "<style>\n",
       "    /* Turns off some styling */\n",
       "    progress {\n",
       "        /* gets rid of default border in Firefox and Opera. */\n",
       "        border: none;\n",
       "        /* Needs to be in here for Safari polyfill so background images work as expected. */\n",
       "        background-size: auto;\n",
       "    }\n",
       "    progress:not([value]), progress:not([value])::-webkit-progress-bar {\n",
       "        background: repeating-linear-gradient(45deg, #7e7e7e, #7e7e7e 10px, #5c5c5c 10px, #5c5c5c 20px);\n",
       "    }\n",
       "    .progress-bar-interrupted, .progress-bar-interrupted::-webkit-progress-bar {\n",
       "        background: #F44336;\n",
       "    }\n",
       "</style>\n"
      ],
      "text/plain": [
       "<IPython.core.display.HTML object>"
      ]
     },
     "metadata": {},
     "output_type": "display_data"
    },
    {
     "data": {
      "text/html": [
       "\n",
       "    <div>\n",
       "      <progress value='9000' class='' max='9000' style='width:300px; height:20px; vertical-align: middle;'></progress>\n",
       "      100.00% [9000/9000 06:06&lt;00:00 Sampling 3 chains, 0 divergences]\n",
       "    </div>\n",
       "    "
      ],
      "text/plain": [
       "<IPython.core.display.HTML object>"
      ]
     },
     "metadata": {},
     "output_type": "display_data"
    },
    {
     "name": "stdout",
     "output_type": "stream",
     "text": [
      "The RMSE for model 2 - PV1READ ~ JOYREAD + PISADIFF + SCREADCOMP + SCREADDIFF + (1|SchoolID) is: 86.03158141498173\n",
      "CPU times: user 21.5 s, sys: 13.1 s, total: 34.6 s\n",
      "Wall time: 6min 16s\n"
     ]
    }
   ],
   "source": [
    "%%time\n",
    "#PV1READ ~ JOYREAD + PISADIFF + SCREADCOMP + SCREADDIFF + (1|SchoolID)\n",
    "model2 = bmb.Model(\"PV1READ ~ JOYREAD + PISADIFF + SCREADCOMP + SCREADDIFF + (1|SchoolID)\", PISA2018, categorical = [\"SchoolID\"])\n",
    "\n",
    "priors = {\"Intercept\": bmb.Prior(\"Normal\", mu=0, sigma=100),\n",
    "          \"JOYREAD\": bmb.Prior(\"Normal\", mu=np.mean(PISA2018[\"JOYREAD\"]), sigma=np.std(PISA2018[\"JOYREAD\"])),\n",
    "          \"PISADIFF\": bmb.Prior(\"Normal\", mu=0, sigma=100),\n",
    "          \"SCREADCOMP\": bmb.Prior(\"Normal\", mu=np.mean(PISA2018[\"SCREADCOMP\"]), sigma=10),\n",
    "          \"SCREADDIFF\": bmb.Prior(\"Normal\", mu=np.mean(PISA2018[\"SCREADDIFF\"]), sigma=np.std(PISA2018[\"SCREADDIFF\"])),\n",
    "          \"1|SchoolID\": bmb.Prior(\"Normal\", mu=0, sigma=bmb.Prior(\"HalfNormal\", sigma=100)),\n",
    "          \"sigma\": bmb.Prior(\"HalfNormal\", sigma=10)}\n",
    "model2.set_priors(priors = priors)\n",
    "\n",
    "trace2 = model2.fit(draws=2000, random_seed=RANDOM_SEED)\n",
    "\n",
    "post_pred = model2.predict(trace2, data = PISA2018, inplace=False).posterior[\"PV1READ_mean\"]\n",
    "mean_pred = np.array(post_pred.mean(dim=[\"chain\", \"draw\"]))\n",
    "print(f'The RMSE for model 2 - PV1READ ~ JOYREAD + PISADIFF + SCREADCOMP + SCREADDIFF + (1|SchoolID) is: {sqrt(mean_squared_error(PISA2018[\"PV1READ\"], mean_pred))}')"
   ]
  },
  {
   "cell_type": "code",
   "execution_count": 9,
   "metadata": {},
   "outputs": [
    {
     "data": {
      "text/html": [
       "\n",
       "<style>\n",
       "    /* Turns off some styling */\n",
       "    progress {\n",
       "        /* gets rid of default border in Firefox and Opera. */\n",
       "        border: none;\n",
       "        /* Needs to be in here for Safari polyfill so background images work as expected. */\n",
       "        background-size: auto;\n",
       "    }\n",
       "    progress:not([value]), progress:not([value])::-webkit-progress-bar {\n",
       "        background: repeating-linear-gradient(45deg, #7e7e7e, #7e7e7e 10px, #5c5c5c 10px, #5c5c5c 20px);\n",
       "    }\n",
       "    .progress-bar-interrupted, .progress-bar-interrupted::-webkit-progress-bar {\n",
       "        background: #F44336;\n",
       "    }\n",
       "</style>\n"
      ],
      "text/plain": [
       "<IPython.core.display.HTML object>"
      ]
     },
     "metadata": {},
     "output_type": "display_data"
    },
    {
     "data": {
      "text/html": [
       "\n",
       "    <div>\n",
       "      <progress value='9000' class='' max='9000' style='width:300px; height:20px; vertical-align: middle;'></progress>\n",
       "      100.00% [9000/9000 07:01&lt;00:00 Sampling 3 chains, 0 divergences]\n",
       "    </div>\n",
       "    "
      ],
      "text/plain": [
       "<IPython.core.display.HTML object>"
      ]
     },
     "metadata": {},
     "output_type": "display_data"
    },
    {
     "name": "stdout",
     "output_type": "stream",
     "text": [
      "The RMSE for model 3 - PV1READ ~ METASUM + GFOFAIL + MASTGOAL + SWBP + WORKMAST + ADAPTIVITY + COMPETE + (1|SchoolID) is: 91.30024568273653\n",
      "CPU times: user 24.8 s, sys: 13.9 s, total: 38.8 s\n",
      "Wall time: 7min 9s\n"
     ]
    }
   ],
   "source": [
    "%%time\n",
    "#PV1READ ~ METASUM + GFOFAIL + MASTGOAL + SWBP + WORKMAST + ADAPTIVITY + COMPETE + (1|SchoolID)\n",
    "model3 = bmb.Model(\"PV1READ ~ METASUM + GFOFAIL + MASTGOAL + SWBP + WORKMAST + ADAPTIVITY + COMPETE + (1|SchoolID)\", PISA2018, categorical = [\"SchoolID\"])\n",
    "\n",
    "priors = {\"Intercept\": bmb.Prior(\"Normal\", mu=0, sigma=100),\n",
    "          \"METASUM\": bmb.Prior(\"Normal\", mu=np.mean(PISA2018[\"METASUM\"]), sigma=np.std(PISA2018[\"METASUM\"])),\n",
    "          \"GFOFAIL\": bmb.Prior(\"Normal\", mu=0, sigma=100),\n",
    "          \"MASTGOAL\": bmb.Prior(\"Normal\", mu=np.mean(PISA2018[\"MASTGOAL\"]), sigma=10),\n",
    "          \"SWBP\": bmb.Prior(\"Normal\", mu=0, sigma=100),\n",
    "          \"WORKMAST\": bmb.Prior(\"Normal\", mu=np.mean(PISA2018[\"WORKMAST\"]), sigma=10),\n",
    "          \"ADAPTIVITY\": bmb.Prior(\"Normal\", mu=np.mean(PISA2018[\"ADAPTIVITY\"]), sigma=100),\n",
    "          \"COMPETE\": bmb.Prior(\"Normal\", mu=np.mean(PISA2018[\"COMPETE\"]), sigma=np.std(PISA2018[\"COMPETE\"])),\n",
    "          \"1|SchoolID\": bmb.Prior(\"Normal\", mu=0, sigma=bmb.Prior(\"HalfNormal\", sigma=100)),\n",
    "          \"sigma\": bmb.Prior(\"HalfNormal\", sigma=10)}\n",
    "model3.set_priors(priors = priors)\n",
    "\n",
    "trace3 = model3.fit(draws=2000, random_seed=RANDOM_SEED)\n",
    "\n",
    "post_pred = model3.predict(trace3, data = PISA2018, inplace=False).posterior[\"PV1READ_mean\"]\n",
    "mean_pred = np.array(post_pred.mean(dim=[\"chain\", \"draw\"]))\n",
    "print(f'The RMSE for model 3 - PV1READ ~ METASUM + GFOFAIL + MASTGOAL + SWBP + WORKMAST + ADAPTIVITY + COMPETE + (1|SchoolID) is: {sqrt(mean_squared_error(PISA2018[\"PV1READ\"], mean_pred))}')"
   ]
  },
  {
   "cell_type": "code",
   "execution_count": 10,
   "metadata": {},
   "outputs": [
    {
     "data": {
      "text/html": [
       "\n",
       "<style>\n",
       "    /* Turns off some styling */\n",
       "    progress {\n",
       "        /* gets rid of default border in Firefox and Opera. */\n",
       "        border: none;\n",
       "        /* Needs to be in here for Safari polyfill so background images work as expected. */\n",
       "        background-size: auto;\n",
       "    }\n",
       "    progress:not([value]), progress:not([value])::-webkit-progress-bar {\n",
       "        background: repeating-linear-gradient(45deg, #7e7e7e, #7e7e7e 10px, #5c5c5c 10px, #5c5c5c 20px);\n",
       "    }\n",
       "    .progress-bar-interrupted, .progress-bar-interrupted::-webkit-progress-bar {\n",
       "        background: #F44336;\n",
       "    }\n",
       "</style>\n"
      ],
      "text/plain": [
       "<IPython.core.display.HTML object>"
      ]
     },
     "metadata": {},
     "output_type": "display_data"
    },
    {
     "data": {
      "text/html": [
       "\n",
       "    <div>\n",
       "      <progress value='9000' class='' max='9000' style='width:300px; height:20px; vertical-align: middle;'></progress>\n",
       "      100.00% [9000/9000 06:54&lt;00:00 Sampling 3 chains, 0 divergences]\n",
       "    </div>\n",
       "    "
      ],
      "text/plain": [
       "<IPython.core.display.HTML object>"
      ]
     },
     "metadata": {},
     "output_type": "display_data"
    },
    {
     "name": "stdout",
     "output_type": "stream",
     "text": [
      "The RMSE for model 4 - PV1READ ~ PERFEED + TEACHINT + BELONG + (1 + TEACHINT | SchoolID) is: 94.72927237345324\n",
      "CPU times: user 25.5 s, sys: 15.8 s, total: 41.2 s\n",
      "Wall time: 7min 4s\n"
     ]
    }
   ],
   "source": [
    "%%time\n",
    "#PV1READ ~ PERFEED + TEACHINT + BELONG + (1 + TEACHINT | SchoolID)\n",
    "model4 = bmb.Model(\"PV1READ ~ PERFEED + TEACHINT + BELONG + (1 + TEACHINT | SchoolID)\", PISA2018, categorical = [\"SchoolID\"])\n",
    "\n",
    "priors = {\"Intercept\": bmb.Prior(\"Normal\", mu=0, sigma=100),\n",
    "          \"PERFEED\": bmb.Prior(\"Normal\", mu=np.mean(PISA2018[\"PERFEED\"]), sigma=np.std(PISA2018[\"PERFEED\"])),\n",
    "          \"TEACHINT\": bmb.Prior(\"Normal\", mu=np.mean(PISA2018[\"TEACHINT\"]), sigma=np.std(PISA2018[\"TEACHINT\"])),\n",
    "          \"BELONG\": bmb.Prior(\"Normal\", mu=np.mean(PISA2018[\"BELONG\"]), sigma=100),\n",
    "          \"1|SchoolID\": bmb.Prior(\"Normal\", mu=0, sigma=bmb.Prior(\"HalfNormal\", sigma=100)),\n",
    "          \"TEACHINT|SchoolID\": bmb.Prior(\"Normal\", mu=0, sigma=bmb.Prior(\"HalfNormal\", sigma=100)),\n",
    "          \"sigma\": bmb.Prior(\"HalfNormal\", sigma=10)}\n",
    "model4.set_priors(priors = priors)\n",
    "\n",
    "trace4 = model4.fit(draws=2000, random_seed=RANDOM_SEED)\n",
    "\n",
    "post_pred = model4.predict(trace4, data = PISA2018, inplace=False).posterior[\"PV1READ_mean\"]\n",
    "mean_pred = np.array(post_pred.mean(dim=[\"chain\", \"draw\"]))\n",
    "print(f'The RMSE for model 4 - PV1READ ~ PERFEED + TEACHINT + BELONG + (1 + TEACHINT | SchoolID) is: {sqrt(mean_squared_error(PISA2018[\"PV1READ\"], mean_pred))}')"
   ]
  },
  {
   "cell_type": "code",
   "execution_count": 11,
   "metadata": {},
   "outputs": [],
   "source": [
    "# A wrapper class for the Bambi/PYMC models to be compatible with the Taweret framework\n",
    "class BMBWrapper(BaseModel):\n",
    "    def __init__(self, model, idata, posterior_predictive):\n",
    "        self.model = model\n",
    "        self.idata = idata\n",
    "        self.posterior_predictive = posterior_predictive\n",
    "        \n",
    "    def evaluate(self, model_parameters):\n",
    "        post_pred = self.model.predict(self.idata, data = model_parameters, inplace=False).posterior[self.posterior_predictive]\n",
    "        return np.array(post_pred.mean(dim=[\"chain\", \"draw\"])).reshape(-1, 1), np.sqrt(np.array(post_pred.var(dim=[\"chain\", \"draw\"]))).flatten().reshape(-1, 1)\n",
    "\n",
    "    \n",
    "    def log_likelihood_elementwise(self,x_exp, y_exp, y_err, model_params):\n",
    "        y = self.evaluate(model_params)[0]\n",
    "        \n",
    "        return np.exp(-(y - y_exp) **2 / (2 * y_err ** 2)) \\\n",
    "            / np.sqrt(2 * np.pi * y_err ** 2)\n",
    "    \n",
    "    def set_prior(self, prior_dict):\n",
    "        self.model.set_priors(self, priors=prior_dict)\n"
   ]
  },
  {
   "cell_type": "code",
   "execution_count": 12,
   "metadata": {},
   "outputs": [],
   "source": [
    "models = {\n",
    "            \"1\": BMBWrapper(model1, trace1, \"PV1READ_mean\"),\n",
    "            \"2\": BMBWrapper(model2, trace2, \"PV1READ_mean\"),\n",
    "            \"3\": BMBWrapper(model3, trace3, \"PV1READ_mean\"),\n",
    "            \"4\": BMBWrapper(model4, trace4, \"PV1READ_mean\")\n",
    "}"
   ]
  },
  {
   "cell_type": "code",
   "execution_count": 13,
   "metadata": {},
   "outputs": [
    {
     "name": "stderr",
     "output_type": "stream",
     "text": [
      "/home/eedwards/Downloads/URS23_BayesML/Taweret/mix/trees.py:913: FutureWarning: Series.__getitem__ treating keys as positions is deprecated. In a future version, integer keys will always be treated as labels (consistent with DataFrame behavior). To access a value by position, use `ser.iloc[pos]`\n",
      "  xinc = (maxx[feat] - minx[feat]) / (self.numcut + 1)\n",
      "/home/eedwards/Downloads/URS23_BayesML/Taweret/mix/trees.py:915: FutureWarning: Series.__getitem__ treating keys as positions is deprecated. In a future version, integer keys will always be treated as labels (consistent with DataFrame behavior). To access a value by position, use `ser.iloc[pos]`\n",
      "  np.arange(1, (self.numcut) + 1) * xinc + minx[feat]]\n",
      "/home/eedwards/.local/lib/python3.10/site-packages/numpy/core/fromnumeric.py:59: FutureWarning: 'DataFrame.swapaxes' is deprecated and will be removed in a future version. Please use 'DataFrame.transpose' instead.\n",
      "  return bound(*args, **kwds)\n"
     ]
    },
    {
     "name": "stdout",
     "output_type": "stream",
     "text": [
      "Results stored in temporary path: /tmp/openbtpy_az0y0dax\n",
      "Running model...\n"
     ]
    },
    {
     "name": "stderr",
     "output_type": "stream",
     "text": [
      "/home/eedwards/.local/lib/python3.10/site-packages/numpy/core/fromnumeric.py:59: FutureWarning: 'DataFrame.swapaxes' is deprecated and will be removed in a future version. Please use 'DataFrame.transpose' instead.\n",
      "  return bound(*args, **kwds)\n"
     ]
    }
   ],
   "source": [
    "import time\n",
    "\n",
    "#start = time.time()\n",
    "#Fit the BMM Model\n",
    "# Initialize the Trees class instance\n",
    "mix = Trees(model_dict = models)\n",
    "\n",
    "# Set prior informastion\n",
    "mix.set_prior(k=2.5,ntree=200,overallnu=0,overallsd=0.01,inform_prior=False)\n",
    "\n",
    "# Train the model\n",
    "fit = mix.train(X=train, y=np.array(train[\"PV1READ\"]), ndpost = 1000, nadapt = 200, nskip = 200, adaptevery = 50, minnumbot = 4)\n",
    "\n",
    "#end = time.time()\n",
    "#print(end - start)"
   ]
  },
  {
   "cell_type": "code",
   "execution_count": 14,
   "metadata": {},
   "outputs": [],
   "source": [
    "#ppost, pmean, pci, pstd = mix.predict(X = PISA2018, ci = 0.95)\n",
    "#wpost, wmean, wci, wstd = mix.predict_weights(X = PISA2018, ci = 0.95)"
   ]
  },
  {
   "cell_type": "code",
   "execution_count": 15,
   "metadata": {},
   "outputs": [],
   "source": [
    "#np.mean(pci[0])"
   ]
  },
  {
   "cell_type": "code",
   "execution_count": 16,
   "metadata": {},
   "outputs": [],
   "source": [
    "#np.mean(pci[1])"
   ]
  },
  {
   "cell_type": "code",
   "execution_count": 17,
   "metadata": {},
   "outputs": [],
   "source": [
    "#print(f'The RMSE for BARTis: {sqrt(mean_squared_error(PISA2018[\"PV1READ\"], pmean))}')"
   ]
  },
  {
   "cell_type": "code",
   "execution_count": 18,
   "metadata": {},
   "outputs": [],
   "source": [
    "#wmean"
   ]
  },
  {
   "cell_type": "code",
   "execution_count": 19,
   "metadata": {},
   "outputs": [],
   "source": [
    "from sklearn.model_selection import train_test_split\n",
    "PISA_train, PISA_test = train_test_split(PISA2018, test_size = 0.1)"
   ]
  },
  {
   "cell_type": "code",
   "execution_count": 20,
   "metadata": {},
   "outputs": [
    {
     "name": "stderr",
     "output_type": "stream",
     "text": [
      "/home/eedwards/Downloads/URS23_BayesML/Taweret/mix/trees.py:913: FutureWarning: Series.__getitem__ treating keys as positions is deprecated. In a future version, integer keys will always be treated as labels (consistent with DataFrame behavior). To access a value by position, use `ser.iloc[pos]`\n",
      "  xinc = (maxx[feat] - minx[feat]) / (self.numcut + 1)\n",
      "/home/eedwards/Downloads/URS23_BayesML/Taweret/mix/trees.py:915: FutureWarning: Series.__getitem__ treating keys as positions is deprecated. In a future version, integer keys will always be treated as labels (consistent with DataFrame behavior). To access a value by position, use `ser.iloc[pos]`\n",
      "  np.arange(1, (self.numcut) + 1) * xinc + minx[feat]]\n",
      "/home/eedwards/.local/lib/python3.10/site-packages/numpy/core/fromnumeric.py:59: FutureWarning: 'DataFrame.swapaxes' is deprecated and will be removed in a future version. Please use 'DataFrame.transpose' instead.\n",
      "  return bound(*args, **kwds)\n"
     ]
    },
    {
     "name": "stdout",
     "output_type": "stream",
     "text": [
      "Results stored in temporary path: /tmp/openbtpy_8t2yoy9t\n",
      "Running model...\n"
     ]
    },
    {
     "name": "stderr",
     "output_type": "stream",
     "text": [
      "/home/eedwards/.local/lib/python3.10/site-packages/numpy/core/fromnumeric.py:59: FutureWarning: 'DataFrame.swapaxes' is deprecated and will be removed in a future version. Please use 'DataFrame.transpose' instead.\n",
      "  return bound(*args, **kwds)\n"
     ]
    }
   ],
   "source": [
    "mix = Trees(model_dict = models)\n",
    "\n",
    "mix.set_prior(k=2.5,ntree=200,overallnu=0,overallsd=0.01,inform_prior=False)\n",
    "\n",
    "fit = mix.train(X=PISA_train, y=np.array(PISA_train[\"PV1READ\"]), ndpost = 1000, nadapt = 200, nskip = 200, adaptevery = 50, minnumbot = 4)\n"
   ]
  },
  {
   "cell_type": "code",
   "execution_count": 22,
   "metadata": {},
   "outputs": [
    {
     "name": "stderr",
     "output_type": "stream",
     "text": [
      "/home/eedwards/.local/lib/python3.10/site-packages/numpy/core/fromnumeric.py:59: FutureWarning: 'DataFrame.swapaxes' is deprecated and will be removed in a future version. Please use 'DataFrame.transpose' instead.\n",
      "  return bound(*args, **kwds)\n"
     ]
    },
    {
     "name": "stdout",
     "output_type": "stream",
     "text": [
      "The RMSE for BARTis: 18.980905855478895\n"
     ]
    }
   ],
   "source": [
    "ppost, pmean, pci, pstd = mix.predict(X = PISA_test, ci = 0.95)\n",
    "print(f'The RMSE for BARTis: {sqrt(mean_squared_error(PISA_test[\"PV1READ\"], pmean))}')"
   ]
  },
  {
   "cell_type": "code",
   "execution_count": 32,
   "metadata": {},
   "outputs": [
    {
     "name": "stderr",
     "output_type": "stream",
     "text": [
      "/home/eedwards/.local/lib/python3.10/site-packages/numpy/core/fromnumeric.py:59: FutureWarning: 'DataFrame.swapaxes' is deprecated and will be removed in a future version. Please use 'DataFrame.transpose' instead.\n",
      "  return bound(*args, **kwds)\n"
     ]
    }
   ],
   "source": [
    "wpost, wmean, wci, wstd = mix.predict_weights(X = PISA_test, ci = 0.95)"
   ]
  },
  {
   "cell_type": "code",
   "execution_count": 36,
   "metadata": {},
   "outputs": [
    {
     "data": {
      "text/plain": [
       "array([ 0.52676488,  0.87689958,  0.021467  , -0.42730765])"
      ]
     },
     "execution_count": 36,
     "metadata": {},
     "output_type": "execute_result"
    }
   ],
   "source": [
    "np.mean(wmean, axis = 0)"
   ]
  }
 ],
 "metadata": {
  "kernelspec": {
   "display_name": "Python 3 (ipykernel)",
   "language": "python",
   "name": "python3"
  },
  "language_info": {
   "codemirror_mode": {
    "name": "ipython",
    "version": 3
   },
   "file_extension": ".py",
   "mimetype": "text/x-python",
   "name": "python",
   "nbconvert_exporter": "python",
   "pygments_lexer": "ipython3",
   "version": "3.10.12"
  }
 },
 "nbformat": 4,
 "nbformat_minor": 4
}
