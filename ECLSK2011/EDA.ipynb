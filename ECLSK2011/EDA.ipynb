{
 "cells": [
  {
   "cell_type": "markdown",
   "metadata": {},
   "source": [
    "# Exploratory Data Analysis\n"
   ]
  },
  {
   "cell_type": "code",
   "execution_count": null,
   "metadata": {},
   "outputs": [],
   "source": [
    "import matplotlib.pyplot as plt\n",
    "import pandas as pd\n",
    "import numpy as np\n",
    "from sklearn.linear_model import LinearRegression"
   ]
  },
  {
   "cell_type": "code",
   "execution_count": null,
   "metadata": {},
   "outputs": [],
   "source": [
    "ECLSK2011 = pd.read_csv('ECLSK2011.csv')\n",
    "\n",
    "#Dropping the rows with missing math scores\n",
    "ECLSK2011 = ECLSK2011.dropna(axis=1, how='all')\n",
    "missing_math_rows = ECLSK2011[ECLSK2011.groupby('CHILDID')['MATH'].transform(lambda x: any(x.isna()))]\n",
    "\n",
    "ECLSK2011 = ECLSK2011.drop(missing_math_rows.index)"
   ]
  },
  {
   "cell_type": "code",
   "execution_count": null,
   "metadata": {},
   "outputs": [],
   "source": [
    "ECLSK2011_filtered = ECLSK2011[['TIME', 'MATH', 'DADED', 'MOMED']]\n",
    "\n",
    "unique_daded = ECLSK2011_filtered['DADED'].unique()\n",
    "unique_momed = ECLSK2011_filtered['MOMED'].unique()\n",
    "\n",
    "a = len(unique_daded)\n",
    "b = len(unique_momed)\n",
    "\n",
    "fig, axes = plt.subplots(a, b, figsize=(150, 150))\n",
    "\n",
    "for i, daded in enumerate(unique_daded):\n",
    "    for j, momed in enumerate(unique_momed):\n",
    "        ax = axes[i, j]\n",
    "        data_subset = ECLSK2011_filtered[(ECLSK2011_filtered['DADED'] == daded) & (ECLSK2011_filtered['MOMED'] == momed)]\n",
    "        ax.scatter(data_subset['TIME'], data_subset['MATH'], marker='o')\n",
    "        ax.set_title(f\"DADED: {daded}, MOMED: {momed}\")\n",
    "        ax.set_xlabel('TIME')\n",
    "        ax.set_ylabel('MATH')\n",
    "\n",
    "plt.tight_layout()\n",
    "\n",
    "plt.show()"
   ]
  },
  {
   "cell_type": "code",
   "execution_count": null,
   "metadata": {},
   "outputs": [],
   "source": [
    "unique_values = ECLSK2011['DADED'].unique()\n",
    "\n",
    "colors = {}\n",
    "for value in unique_values:\n",
    "    colors[value] = np.random.rand(3,)\n",
    "\n",
    "\n",
    "plt.figure(figsize=(10, 6))\n",
    "for daded_value, group in ECLSK2011.groupby('DADED'):\n",
    "    plt.scatter(group['TIME'], group['MATH'], c=colors[daded_value], label=f'DADED {daded_value}')\n",
    "    x = group['TIME'].values.reshape(-1, 1)\n",
    "    y = group['MATH'].values.reshape(-1, 1)\n",
    "    model = LinearRegression().fit(x, y)\n",
    "    y_pred = model.predict(x)\n",
    "\n",
    "    plt.plot(group['TIME'], y_pred, color=colors[daded_value], linestyle='--')\n",
    "    \n",
    "\n",
    "    \n",
    "plt.xlabel('Time')\n",
    "plt.ylabel('Math Scores')\n",
    "plt.title('Math Scores over Time - DADED')\n",
    "plt.legend()\n",
    "plt.show()"
   ]
  },
  {
   "cell_type": "code",
   "execution_count": null,
   "metadata": {},
   "outputs": [],
   "source": [
    "unique_values = ECLSK2011['MOMED'].unique()\n",
    "\n",
    "plt.figure(figsize=(10, 6))\n",
    "for momed_value, group in ECLSK2011.groupby('MOMED'):\n",
    "    plt.scatter(group['TIME'], group['MATH'], c=colors[momed_value], label=f'MOMED {momed_value}')\n",
    "\n",
    "    x = group['TIME'].values.reshape(-1, 1)\n",
    "    y = group['MATH'].values.reshape(-1, 1)\n",
    "    model = LinearRegression().fit(x, y)\n",
    "    y_pred = model.predict(x)\n",
    "\n",
    "    plt.plot(group['TIME'], y_pred, color=colors[momed_value], linestyle='--')\n",
    "\n",
    "plt.xlabel('Time')\n",
    "plt.ylabel('Math Scores')\n",
    "plt.title('Math Scores over Time - MOMED')\n",
    "plt.legend(title='MOMED')\n",
    "plt.show()"
   ]
  }
 ],
 "metadata": {
  "kernelspec": {
   "display_name": "base",
   "language": "python",
   "name": "python3"
  },
  "language_info": {
   "codemirror_mode": {
    "name": "ipython",
    "version": 3
   },
   "file_extension": ".py",
   "mimetype": "text/x-python",
   "name": "python",
   "nbconvert_exporter": "python",
   "pygments_lexer": "ipython3",
   "version": "3.11.5"
  }
 },
 "nbformat": 4,
 "nbformat_minor": 2
}
