{
 "cells": [
  {
   "cell_type": "markdown",
   "metadata": {},
   "source": [
    "# Simple Growth Model\n",
    "### Evan Edwards\n",
    "\n",
    "- Simple growth model with set parameters using the following error metrics:\n",
    "    - RMSE\n",
    "    - R^2\n",
    "    - Maximum Error\n",
    "- Optimization (Work in Progress)"
   ]
  },
  {
   "cell_type": "code",
   "execution_count": 3,
   "metadata": {},
   "outputs": [],
   "source": [
    "import matplotlib.pyplot as plt\n",
    "import pandas as pd\n",
    "import pymc as pm\n",
    "import numpy as np\n",
    "from sklearn.metrics import mean_squared_error, max_error, r2_score\n",
    "from sklearn.model_selection import train_test_split\n",
    "import arviz as az\n",
    "import scipy as sp\n",
    "import time\n",
    "from scipy.optimize import minimize"
   ]
  },
  {
   "cell_type": "code",
   "execution_count": 4,
   "metadata": {},
   "outputs": [],
   "source": [
    "ECLSK2011 = pd.read_csv('ECLSK2011.csv')\n",
    "ECLSK2011 = ECLSK2011.dropna(axis=1, how='all')\n",
    "missing_math_rows = ECLSK2011[ECLSK2011.groupby('CHILDID')['MATH'].transform(lambda x: any(x.isna()))]\n",
    "\n",
    "ECLSK2011 = ECLSK2011.drop(missing_math_rows.index)\n",
    "\n"
   ]
  },
  {
   "cell_type": "code",
   "execution_count": 5,
   "metadata": {},
   "outputs": [],
   "source": [
    "ECLSK2011_train, ECLSK2011_test = train_test_split(ECLSK2011, test_size=0.1)"
   ]
  },
  {
   "cell_type": "code",
   "execution_count": 6,
   "metadata": {},
   "outputs": [],
   "source": [
    "\n",
    "# Level 1\n",
    "\n",
    "#std_y_ti | pi_0i, pi_1i, pi_2i, sigma ~ normal(pi_0i + pi_1i  (X1)+ pi_2i (X2), sigma^2) \n",
    "# pi_0i | beta00, sigma00 ~ normal(beta00, sigma00^2)\n",
    "# pi_1i | beta10, sigma01 ~ normal(beta10, sigma10^2)\n",
    "# pi_2i | beta20, sigma02 ~ normal(beta20, sigma20^2)\n",
    "# sigma^2 ~ inv_gamma(nu/2, nu * lambda/2)\n",
    "\n",
    "# Level 2\n",
    "# beta00 ~ N(0, tau00^2)\n",
    "# beta10 ~ N(0, tau10^2)\n",
    "# beta20 ~ N(0, tau20^2)\n",
    "\n",
    "#sigma00 = sigma10 = sigma = .3\n",
    "#tau00 = tau10 = tau20 = .4\n"
   ]
  },
  {
   "cell_type": "code",
   "execution_count": 7,
   "metadata": {},
   "outputs": [
    {
     "name": "stderr",
     "output_type": "stream",
     "text": [
      "Auto-assigning NUTS sampler...\n",
      "Initializing NUTS using jitter+adapt_diag...\n",
      "Multiprocess sampling (4 chains in 4 jobs)\n",
      "NUTS: [beta00, beta10, beta20, pi_0i, pi_1i, pi_2i, sigma_sq]\n"
     ]
    },
    {
     "data": {
      "text/html": [
       "\n",
       "<style>\n",
       "    /* Turns off some styling */\n",
       "    progress {\n",
       "        /* gets rid of default border in Firefox and Opera. */\n",
       "        border: none;\n",
       "        /* Needs to be in here for Safari polyfill so background images work as expected. */\n",
       "        background-size: auto;\n",
       "    }\n",
       "    progress:not([value]), progress:not([value])::-webkit-progress-bar {\n",
       "        background: repeating-linear-gradient(45deg, #7e7e7e, #7e7e7e 10px, #5c5c5c 10px, #5c5c5c 20px);\n",
       "    }\n",
       "    .progress-bar-interrupted, .progress-bar-interrupted::-webkit-progress-bar {\n",
       "        background: #F44336;\n",
       "    }\n",
       "</style>\n"
      ],
      "text/plain": [
       "<IPython.core.display.HTML object>"
      ]
     },
     "metadata": {},
     "output_type": "display_data"
    },
    {
     "data": {
      "text/html": [
       "\n",
       "    <div>\n",
       "      <progress value='12000' class='' max='12000' style='width:300px; height:20px; vertical-align: middle;'></progress>\n",
       "      100.00% [12000/12000 01:05&lt;00:00 Sampling 4 chains, 0 divergences]\n",
       "    </div>\n",
       "    "
      ],
      "text/plain": [
       "<IPython.core.display.HTML object>"
      ]
     },
     "metadata": {},
     "output_type": "display_data"
    },
    {
     "name": "stderr",
     "output_type": "stream",
     "text": [
      "Sampling 4 chains for 1_000 tune and 2_000 draw iterations (4_000 + 8_000 draws total) took 89 seconds.\n"
     ]
    },
    {
     "name": "stdout",
     "output_type": "stream",
     "text": [
      "Computation time: 132.76073837280273 seconds\n"
     ]
    },
    {
     "data": {
      "text/html": [
       "<div>\n",
       "<style scoped>\n",
       "    .dataframe tbody tr th:only-of-type {\n",
       "        vertical-align: middle;\n",
       "    }\n",
       "\n",
       "    .dataframe tbody tr th {\n",
       "        vertical-align: top;\n",
       "    }\n",
       "\n",
       "    .dataframe thead th {\n",
       "        text-align: right;\n",
       "    }\n",
       "</style>\n",
       "<table border=\"1\" class=\"dataframe\">\n",
       "  <thead>\n",
       "    <tr style=\"text-align: right;\">\n",
       "      <th></th>\n",
       "      <th>mean</th>\n",
       "      <th>sd</th>\n",
       "      <th>hdi_2.5%</th>\n",
       "      <th>hdi_97.5%</th>\n",
       "      <th>mcse_mean</th>\n",
       "      <th>mcse_sd</th>\n",
       "      <th>ess_bulk</th>\n",
       "      <th>ess_tail</th>\n",
       "      <th>r_hat</th>\n",
       "    </tr>\n",
       "  </thead>\n",
       "  <tbody>\n",
       "    <tr>\n",
       "      <th>beta00</th>\n",
       "      <td>0.020</td>\n",
       "      <td>0.078</td>\n",
       "      <td>-0.133</td>\n",
       "      <td>0.173</td>\n",
       "      <td>0.001</td>\n",
       "      <td>0.001</td>\n",
       "      <td>11160.0</td>\n",
       "      <td>6261.0</td>\n",
       "      <td>1.0</td>\n",
       "    </tr>\n",
       "    <tr>\n",
       "      <th>beta10</th>\n",
       "      <td>0.254</td>\n",
       "      <td>0.079</td>\n",
       "      <td>0.097</td>\n",
       "      <td>0.408</td>\n",
       "      <td>0.001</td>\n",
       "      <td>0.001</td>\n",
       "      <td>10224.0</td>\n",
       "      <td>6025.0</td>\n",
       "      <td>1.0</td>\n",
       "    </tr>\n",
       "    <tr>\n",
       "      <th>beta20</th>\n",
       "      <td>-0.006</td>\n",
       "      <td>0.077</td>\n",
       "      <td>-0.154</td>\n",
       "      <td>0.150</td>\n",
       "      <td>0.001</td>\n",
       "      <td>0.001</td>\n",
       "      <td>11534.0</td>\n",
       "      <td>6437.0</td>\n",
       "      <td>1.0</td>\n",
       "    </tr>\n",
       "    <tr>\n",
       "      <th>pi_0i</th>\n",
       "      <td>0.027</td>\n",
       "      <td>0.005</td>\n",
       "      <td>0.019</td>\n",
       "      <td>0.036</td>\n",
       "      <td>0.000</td>\n",
       "      <td>0.000</td>\n",
       "      <td>9310.0</td>\n",
       "      <td>6124.0</td>\n",
       "      <td>1.0</td>\n",
       "    </tr>\n",
       "    <tr>\n",
       "      <th>pi_1i</th>\n",
       "      <td>0.334</td>\n",
       "      <td>0.001</td>\n",
       "      <td>0.332</td>\n",
       "      <td>0.336</td>\n",
       "      <td>0.000</td>\n",
       "      <td>0.000</td>\n",
       "      <td>12003.0</td>\n",
       "      <td>6361.0</td>\n",
       "      <td>1.0</td>\n",
       "    </tr>\n",
       "    <tr>\n",
       "      <th>pi_2i</th>\n",
       "      <td>-0.008</td>\n",
       "      <td>0.001</td>\n",
       "      <td>-0.010</td>\n",
       "      <td>-0.006</td>\n",
       "      <td>0.000</td>\n",
       "      <td>0.000</td>\n",
       "      <td>9261.0</td>\n",
       "      <td>5986.0</td>\n",
       "      <td>1.0</td>\n",
       "    </tr>\n",
       "    <tr>\n",
       "      <th>sigma_sq</th>\n",
       "      <td>0.503</td>\n",
       "      <td>0.002</td>\n",
       "      <td>0.498</td>\n",
       "      <td>0.507</td>\n",
       "      <td>0.000</td>\n",
       "      <td>0.000</td>\n",
       "      <td>10838.0</td>\n",
       "      <td>5770.0</td>\n",
       "      <td>1.0</td>\n",
       "    </tr>\n",
       "  </tbody>\n",
       "</table>\n",
       "</div>"
      ],
      "text/plain": [
       "           mean     sd  hdi_2.5%  hdi_97.5%  mcse_mean  mcse_sd  ess_bulk  \\\n",
       "beta00    0.020  0.078    -0.133      0.173      0.001    0.001   11160.0   \n",
       "beta10    0.254  0.079     0.097      0.408      0.001    0.001   10224.0   \n",
       "beta20   -0.006  0.077    -0.154      0.150      0.001    0.001   11534.0   \n",
       "pi_0i     0.027  0.005     0.019      0.036      0.000    0.000    9310.0   \n",
       "pi_1i     0.334  0.001     0.332      0.336      0.000    0.000   12003.0   \n",
       "pi_2i    -0.008  0.001    -0.010     -0.006      0.000    0.000    9261.0   \n",
       "sigma_sq  0.503  0.002     0.498      0.507      0.000    0.000   10838.0   \n",
       "\n",
       "          ess_tail  r_hat  \n",
       "beta00      6261.0    1.0  \n",
       "beta10      6025.0    1.0  \n",
       "beta20      6437.0    1.0  \n",
       "pi_0i       6124.0    1.0  \n",
       "pi_1i       6361.0    1.0  \n",
       "pi_2i       5986.0    1.0  \n",
       "sigma_sq    5770.0    1.0  "
      ]
     },
     "execution_count": 7,
     "metadata": {},
     "output_type": "execute_result"
    }
   ],
   "source": [
    "'''\n",
    "# Level 1 priors\n",
    "sigma00 = sigma10 = sigma20 = 0.3\n",
    "\n",
    "# Level 2 priors\n",
    "tau00 = tau10 = tau20 = 0.4\n",
    "\n",
    "nu = 3\n",
    "lamb = 0.194\n",
    "'''\n",
    "\n",
    "# Level 1 priors\n",
    "sigma00 = sigma10 = sigma20 = 0.3\n",
    "\n",
    "# Level 2 priors\n",
    "tau00 = tau10 = tau20 = 0.4\n",
    "\n",
    "nu = 3\n",
    "lamb = 0.194\n",
    "\n",
    "std_y_ti_data = sp.stats.zscore(ECLSK2011_train['MATH'])\n",
    "time_data = ECLSK2011_train['TIME']\n",
    "start_time = time.time()\n",
    "with pm.Model() as model:\n",
    "    std_y_ti_data = pm.MutableData(\"std_y_ti_data\", std_y_ti_data)\n",
    "    time_data = pm.MutableData(\"time_data\", time_data)\n",
    "    \n",
    "\n",
    "    beta00 = pm.Normal('beta00', mu=0, sigma=tau00**2)\n",
    "    beta10 = pm.Normal('beta10', mu=0, sigma=tau10**2)\n",
    "    beta20 = pm.Normal('beta20', mu=0, sigma=tau20**2)\n",
    "\n",
    "    pi_0i = pm.Normal('pi_0i', mu=beta00, sigma=sigma00**2)\n",
    "    pi_1i = pm.Normal('pi_1i', mu=beta10, sigma=sigma10**2)\n",
    "    pi_2i = pm.Normal('pi_2i', mu=beta20, sigma=sigma20**2)\n",
    "    \n",
    "    sigma_sq = pm.InverseGamma('sigma_sq', alpha=nu/2, beta=nu*lamb/2)\n",
    "    T_ti = time_data\n",
    "    T_ti_hat = pm.math.mean(time_data)\n",
    "\n",
    "\n",
    "    #Taylor Series\n",
    "    X1 = T_ti - T_ti_hat\n",
    "    X2 = (X1**2)/2\n",
    "\n",
    "    std_y_ti = pm.Normal('std_y_ti', mu=pi_0i + pi_1i*(X1) + pi_2i*(X2), sigma=sigma_sq, observed=std_y_ti_data)\n",
    "\n",
    "    trace = pm.sample(2000, tune=1000)\n",
    "\n",
    "end_time = time.time()\n",
    "elapsed_time = end_time - start_time\n",
    "\n",
    "print(f\"Computation time: {elapsed_time} seconds\")\n",
    "pm.summary(trace,hdi_prob = 0.95)\n"
   ]
  },
  {
   "cell_type": "code",
   "execution_count": 8,
   "metadata": {},
   "outputs": [],
   "source": [
    "def RMSE(pred, true):\n",
    "    return np.sqrt(np.sum(np.power(np.subtract(true, pred),2))/len(true))"
   ]
  },
  {
   "cell_type": "code",
   "execution_count": 9,
   "metadata": {},
   "outputs": [
    {
     "name": "stderr",
     "output_type": "stream",
     "text": [
      "Sampling: [std_y_ti]\n"
     ]
    },
    {
     "data": {
      "text/html": [
       "\n",
       "<style>\n",
       "    /* Turns off some styling */\n",
       "    progress {\n",
       "        /* gets rid of default border in Firefox and Opera. */\n",
       "        border: none;\n",
       "        /* Needs to be in here for Safari polyfill so background images work as expected. */\n",
       "        background-size: auto;\n",
       "    }\n",
       "    progress:not([value]), progress:not([value])::-webkit-progress-bar {\n",
       "        background: repeating-linear-gradient(45deg, #7e7e7e, #7e7e7e 10px, #5c5c5c 10px, #5c5c5c 20px);\n",
       "    }\n",
       "    .progress-bar-interrupted, .progress-bar-interrupted::-webkit-progress-bar {\n",
       "        background: #F44336;\n",
       "    }\n",
       "</style>\n"
      ],
      "text/plain": [
       "<IPython.core.display.HTML object>"
      ]
     },
     "metadata": {},
     "output_type": "display_data"
    },
    {
     "data": {
      "text/html": [
       "\n",
       "    <div>\n",
       "      <progress value='8000' class='' max='8000' style='width:300px; height:20px; vertical-align: middle;'></progress>\n",
       "      100.00% [8000/8000 00:08&lt;00:00]\n",
       "    </div>\n",
       "    "
      ],
      "text/plain": [
       "<IPython.core.display.HTML object>"
      ]
     },
     "metadata": {},
     "output_type": "display_data"
    },
    {
     "name": "stderr",
     "output_type": "stream",
     "text": [
      "Sampling: [std_y_ti]\n"
     ]
    },
    {
     "data": {
      "text/html": [
       "\n",
       "<style>\n",
       "    /* Turns off some styling */\n",
       "    progress {\n",
       "        /* gets rid of default border in Firefox and Opera. */\n",
       "        border: none;\n",
       "        /* Needs to be in here for Safari polyfill so background images work as expected. */\n",
       "        background-size: auto;\n",
       "    }\n",
       "    progress:not([value]), progress:not([value])::-webkit-progress-bar {\n",
       "        background: repeating-linear-gradient(45deg, #7e7e7e, #7e7e7e 10px, #5c5c5c 10px, #5c5c5c 20px);\n",
       "    }\n",
       "    .progress-bar-interrupted, .progress-bar-interrupted::-webkit-progress-bar {\n",
       "        background: #F44336;\n",
       "    }\n",
       "</style>\n"
      ],
      "text/plain": [
       "<IPython.core.display.HTML object>"
      ]
     },
     "metadata": {},
     "output_type": "display_data"
    },
    {
     "data": {
      "text/html": [
       "\n",
       "    <div>\n",
       "      <progress value='8000' class='' max='8000' style='width:300px; height:20px; vertical-align: middle;'></progress>\n",
       "      100.00% [8000/8000 00:02&lt;00:00]\n",
       "    </div>\n",
       "    "
      ],
      "text/plain": [
       "<IPython.core.display.HTML object>"
      ]
     },
     "metadata": {},
     "output_type": "display_data"
    }
   ],
   "source": [
    "with model:\n",
    "    post_pred = pm.sample_posterior_predictive(trace, model=model)\n",
    "is_pred = post_pred.posterior_predictive[\"std_y_ti\"].mean(dim=[\"chain\", \"draw\"])\n",
    "\n",
    "\n",
    "is_hdi = az.hdi(post_pred.posterior_predictive, hdi_prob=0.95)\n",
    "\n",
    "\n",
    "with model:\n",
    "    pm.set_data({\"std_y_ti_data\": sp.stats.zscore(ECLSK2011_test['MATH']), \"time_data\": ECLSK2011_test['TIME']}) \n",
    "    post_pred = pm.sample_posterior_predictive(trace, model=model)\n",
    "oos_pred = post_pred.posterior_predictive[\"std_y_ti\"].mean(dim=[\"chain\", \"draw\"])\n",
    "\n",
    "\n",
    "oos_hdi = az.hdi(post_pred.posterior_predictive, hdi_prob=0.95)\n"
   ]
  },
  {
   "cell_type": "code",
   "execution_count": 11,
   "metadata": {},
   "outputs": [
    {
     "name": "stdout",
     "output_type": "stream",
     "text": [
      "Growth Model Summary:\n",
      "           mean     sd  hdi_2.5%  hdi_97.5%  mcse_mean  mcse_sd  ess_bulk  \\\n",
      "beta00    0.020  0.078    -0.133      0.173      0.001    0.001   11160.0   \n",
      "beta10    0.254  0.079     0.097      0.408      0.001    0.001   10224.0   \n",
      "beta20   -0.006  0.077    -0.154      0.150      0.001    0.001   11534.0   \n",
      "pi_0i     0.027  0.005     0.019      0.036      0.000    0.000    9310.0   \n",
      "pi_1i     0.334  0.001     0.332      0.336      0.000    0.000   12003.0   \n",
      "pi_2i    -0.008  0.001    -0.010     -0.006      0.000    0.000    9261.0   \n",
      "sigma_sq  0.503  0.002     0.498      0.507      0.000    0.000   10838.0   \n",
      "\n",
      "          ess_tail  r_hat  \n",
      "beta00      6261.0    1.0  \n",
      "beta10      6025.0    1.0  \n",
      "beta20      6437.0    1.0  \n",
      "pi_0i       6124.0    1.0  \n",
      "pi_1i       6361.0    1.0  \n",
      "pi_2i       5986.0    1.0  \n",
      "sigma_sq    5770.0    1.0  \n",
      "\n",
      "Computation time:  132.76073837280273\n",
      "In-Sample Predictions:\n",
      "The RMSE (IS) is: 0.5027238694191412\n",
      "The Maximum Residual Error is: 2.9754220527510027\n",
      "The R^2 (IS) is: 0.7472687111162464\n",
      "Mean upper and lower bounds of the 95% CI: -0.9818566677563235 - 0.981724791187127\n",
      "\n",
      "Out-Of-Sample Predictions:\n",
      "The RMSE (OOS) is: 0.5107464042142215\n",
      "The Maximum Residual Error is: 2.9572306921993397\n",
      "The R^2 (OOS) is: 0.7391381105822431\n",
      "Mean upper and lower bounds of the 95% CI: -0.9802997227104984 - 0.982907520105725\n"
     ]
    }
   ],
   "source": [
    "print(\"Growth Model Summary:\")\n",
    "print(az.summary(trace, hdi_prob=0.95))\n",
    "print(\"\\nComputation time: \", elapsed_time)\n",
    "print(\"In-Sample Predictions:\")\n",
    "print(f'The RMSE (IS) is: {RMSE(sp.stats.zscore(ECLSK2011_train[\"MATH\"]), is_pred)}')\n",
    "print(f'The Maximum Residual Error is: {max_error(sp.stats.zscore(ECLSK2011_train[\"MATH\"]), is_pred)}')\n",
    "print(f'The R^2 (IS) is: {r2_score(sp.stats.zscore(ECLSK2011_train[\"MATH\"]), is_pred)}')\n",
    "print(f\"Mean upper and lower bounds of the 95% CI: {np.mean(np.array(is_hdi.to_array().sel(hdi='lower'))).astype(float)} - {np.mean(np.array(is_hdi.to_array().sel(hdi='higher'))).astype(float)}\")\n",
    "\n",
    "print(\"\\nOut-Of-Sample Predictions:\")\n",
    "print(f'The RMSE (OOS) is: {RMSE(sp.stats.zscore(ECLSK2011_test[\"MATH\"]), oos_pred)}')\n",
    "print(f'The Maximum Residual Error is: {max_error(sp.stats.zscore(ECLSK2011_test[\"MATH\"]), oos_pred)}')\n",
    "print(f'The R^2 (OOS) is: {r2_score(sp.stats.zscore(ECLSK2011_test[\"MATH\"]), oos_pred)}')\n",
    "print(f\"Mean upper and lower bounds of the 95% CI: {np.mean(np.array(oos_hdi.to_array().sel(hdi='lower'))).astype(float)} - {np.mean(np.array(oos_hdi.to_array().sel(hdi='higher'))).astype(float)}\")"
   ]
  }
 ],
 "metadata": {
  "kernelspec": {
   "display_name": "base",
   "language": "python",
   "name": "python3"
  },
  "language_info": {
   "codemirror_mode": {
    "name": "ipython",
    "version": 3
   },
   "file_extension": ".py",
   "mimetype": "text/x-python",
   "name": "python",
   "nbconvert_exporter": "python",
   "pygments_lexer": "ipython3",
   "version": "3.11.5"
  }
 },
 "nbformat": 4,
 "nbformat_minor": 2
}
