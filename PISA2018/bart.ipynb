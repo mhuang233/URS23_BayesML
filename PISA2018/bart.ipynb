{
 "cells": [
  {
   "cell_type": "code",
   "execution_count": 1,
   "metadata": {},
   "outputs": [
    {
     "name": "stderr",
     "output_type": "stream",
     "text": [
      "WARNING (pytensor.tensor.blas): Using NumPy C-API based implementation for BLAS functions.\n"
     ]
    }
   ],
   "source": [
    "from Taweret.core.base_model import BaseModel\n",
    "import numpy as np\n",
    "import pymc as pm\n",
    "import pandas as pd\n",
    "from sklearn.metrics import mean_squared_error\n",
    "from Taweret.core.base_mixer import BaseMixer\n",
    "from math import sqrt\n",
    "from scipy.optimize import minimize\n",
    "import logging\n",
    "from Taweret.mix.trees import Trees\n",
    "import bambi as bmb\n",
    "import arviz as az\n",
    "import matplotlib.pyplot as plt\n",
    "from Taweret.mix.gaussian import Multivariate"
   ]
  },
  {
   "cell_type": "code",
   "execution_count": 2,
   "metadata": {},
   "outputs": [],
   "source": [
    "#Fixed random seed to ensure reproducibility and the possiblility for optimization\n",
    "RANDOM_SEED = 9572404\n",
    "rng = np.random.default_rng(RANDOM_SEED)"
   ]
  },
  {
   "cell_type": "code",
   "execution_count": 3,
   "metadata": {},
   "outputs": [],
   "source": [
    "# Defining to disable output later for ease of visibility\n",
    "logger = logging.getLogger(\"pymc\")\n",
    "# Disabling sampling messages\n",
    "logger.setLevel(logging.ERROR)"
   ]
  },
  {
   "cell_type": "code",
   "execution_count": 4,
   "metadata": {},
   "outputs": [],
   "source": [
    "# Load dataset\n",
    "PISA2018 = pd.read_csv(\"pisa2018.BayesBook.csv\")\n",
    "# Data processing: converting categorical values to numerical values\n",
    "PISA2018['Female'] = PISA2018['Female'].replace({'Female': 1.0, 'Male': 0.0})\n",
    "# Converting numerical to categorical values\n",
    "PISA2018['SchoolID'] = pd.Categorical(PISA2018['SchoolID']).codes\n",
    "PISA2018 = PISA2018[[\"PV1READ\", \"Female\",\"ESCS\",\"HOMEPOS\",\"ICTRES\",\"JOYREAD\",\"PISADIFF\",\"SCREADCOMP\",\"SCREADDIFF\",\"METASUM\",\"GFOFAIL\",\"MASTGOAL\",\"SWBP\",\n",
    "                     \"WORKMAST\",\"ADAPTIVITY\",\"COMPETE\",\"PERFEED\",\"TEACHINT\",\"BELONG\",\"SchoolID\"]]"
   ]
  },
  {
   "cell_type": "code",
   "execution_count": 5,
   "metadata": {},
   "outputs": [
    {
     "data": {
      "text/html": [
       "\n",
       "<style>\n",
       "    /* Turns off some styling */\n",
       "    progress {\n",
       "        /* gets rid of default border in Firefox and Opera. */\n",
       "        border: none;\n",
       "        /* Needs to be in here for Safari polyfill so background images work as expected. */\n",
       "        background-size: auto;\n",
       "    }\n",
       "    progress:not([value]), progress:not([value])::-webkit-progress-bar {\n",
       "        background: repeating-linear-gradient(45deg, #7e7e7e, #7e7e7e 10px, #5c5c5c 10px, #5c5c5c 20px);\n",
       "    }\n",
       "    .progress-bar-interrupted, .progress-bar-interrupted::-webkit-progress-bar {\n",
       "        background: #F44336;\n",
       "    }\n",
       "</style>\n"
      ],
      "text/plain": [
       "<IPython.core.display.HTML object>"
      ]
     },
     "metadata": {},
     "output_type": "display_data"
    },
    {
     "data": {
      "text/html": [
       "\n",
       "    <div>\n",
       "      <progress value='6000' class='' max='6000' style='width:300px; height:20px; vertical-align: middle;'></progress>\n",
       "      100.00% [6000/6000 03:19&lt;00:00 Sampling 2 chains, 0 divergences]\n",
       "    </div>\n",
       "    "
      ],
      "text/plain": [
       "<IPython.core.display.HTML object>"
      ]
     },
     "metadata": {},
     "output_type": "display_data"
    },
    {
     "name": "stdout",
     "output_type": "stream",
     "text": [
      "The RMSE for model 1 - PV1READ ~ Female + ESCS + HOMEPOS + ICTRES + (1 + ICTRES | SchoolID) is: 94.16360679579775\n",
      "CPU times: user 13.6 s, sys: 5.92 s, total: 19.5 s\n",
      "Wall time: 3min 31s\n"
     ]
    }
   ],
   "source": [
    "%%time\n",
    "#PV1READ ~ Female + ESCS + HOMEPOS + ICTRES + (1 + ICTRES | SchoolID)\n",
    "model1 = bmb.Model(\"PV1READ ~ Female + ESCS + HOMEPOS + ICTRES + (1 + ICTRES | SchoolID)\", PISA2018, categorical = [\"SchoolID\"])\n",
    "priors = {\"Intercept\": bmb.Prior(\"Normal\", mu=0, sigma=100),\n",
    "          \"Female\": bmb.Prior(\"Normal\", mu=0, sigma=10),\n",
    "          \"ESCS\": bmb.Prior(\"Normal\", mu=np.mean(PISA2018[\"ESCS\"]), sigma=np.std(PISA2018[\"ESCS\"])),\n",
    "          \"HOMEPOS\": bmb.Prior(\"Normal\", mu=np.mean(PISA2018[\"HOMEPOS\"]), sigma=100),\n",
    "          \"ICTRES\": bmb.Prior(\"Normal\", mu=np.mean(PISA2018[\"ICTRES\"]), sigma=np.std(PISA2018[\"ICTRES\"])),\n",
    "          \"1|SchoolID\": bmb.Prior(\"Normal\", mu=0, sigma=bmb.Prior(\"HalfNormal\", sigma=100)),\n",
    "          \"ICTRES|SchoolID\": bmb.Prior(\"Normal\", mu=0, sigma=bmb.Prior(\"HalfNormal\", sigma=100)),\n",
    "          \"sigma\": bmb.Prior(\"HalfNormal\", sigma=10)}\n",
    "model1.set_priors(priors = priors)\n",
    "\n",
    "trace1 = model1.fit(draws=2000, random_seed=RANDOM_SEED)\n",
    "\n",
    "post_pred = model1.predict(trace1,data = PISA2018, inplace=False).posterior[\"PV1READ_mean\"]\n",
    "mean_pred = np.array(post_pred.mean(dim=[\"chain\", \"draw\"]))\n",
    "print(f'The RMSE for model 1 - PV1READ ~ Female + ESCS + HOMEPOS + ICTRES + (1 + ICTRES | SchoolID) is: {sqrt(mean_squared_error(PISA2018[\"PV1READ\"], mean_pred))}')"
   ]
  },
  {
   "cell_type": "code",
   "execution_count": 6,
   "metadata": {},
   "outputs": [
    {
     "data": {
      "text/html": [
       "\n",
       "<style>\n",
       "    /* Turns off some styling */\n",
       "    progress {\n",
       "        /* gets rid of default border in Firefox and Opera. */\n",
       "        border: none;\n",
       "        /* Needs to be in here for Safari polyfill so background images work as expected. */\n",
       "        background-size: auto;\n",
       "    }\n",
       "    progress:not([value]), progress:not([value])::-webkit-progress-bar {\n",
       "        background: repeating-linear-gradient(45deg, #7e7e7e, #7e7e7e 10px, #5c5c5c 10px, #5c5c5c 20px);\n",
       "    }\n",
       "    .progress-bar-interrupted, .progress-bar-interrupted::-webkit-progress-bar {\n",
       "        background: #F44336;\n",
       "    }\n",
       "</style>\n"
      ],
      "text/plain": [
       "<IPython.core.display.HTML object>"
      ]
     },
     "metadata": {},
     "output_type": "display_data"
    },
    {
     "data": {
      "text/html": [
       "\n",
       "    <div>\n",
       "      <progress value='6000' class='' max='6000' style='width:300px; height:20px; vertical-align: middle;'></progress>\n",
       "      100.00% [6000/6000 02:57&lt;00:00 Sampling 2 chains, 0 divergences]\n",
       "    </div>\n",
       "    "
      ],
      "text/plain": [
       "<IPython.core.display.HTML object>"
      ]
     },
     "metadata": {},
     "output_type": "display_data"
    },
    {
     "name": "stdout",
     "output_type": "stream",
     "text": [
      "The RMSE for model 2 - PV1READ ~ JOYREAD + PISADIFF + SCREADCOMP + SCREADDIFF + (1|SchoolID) is: 86.03224154554742\n",
      "CPU times: user 12.5 s, sys: 3.28 s, total: 15.8 s\n",
      "Wall time: 3min 4s\n"
     ]
    }
   ],
   "source": [
    "%%time\n",
    "#PV1READ ~ JOYREAD + PISADIFF + SCREADCOMP + SCREADDIFF + (1|SchoolID)\n",
    "model2 = bmb.Model(\"PV1READ ~ JOYREAD + PISADIFF + SCREADCOMP + SCREADDIFF + (1|SchoolID)\", PISA2018, categorical = [\"SchoolID\"])\n",
    "\n",
    "priors = {\"Intercept\": bmb.Prior(\"Normal\", mu=0, sigma=100),\n",
    "          \"JOYREAD\": bmb.Prior(\"Normal\", mu=np.mean(PISA2018[\"JOYREAD\"]), sigma=np.std(PISA2018[\"JOYREAD\"])),\n",
    "          \"PISADIFF\": bmb.Prior(\"Normal\", mu=0, sigma=100),\n",
    "          \"SCREADCOMP\": bmb.Prior(\"Normal\", mu=np.mean(PISA2018[\"SCREADCOMP\"]), sigma=10),\n",
    "          \"SCREADDIFF\": bmb.Prior(\"Normal\", mu=np.mean(PISA2018[\"SCREADDIFF\"]), sigma=np.std(PISA2018[\"SCREADDIFF\"])),\n",
    "          \"1|SchoolID\": bmb.Prior(\"Normal\", mu=0, sigma=bmb.Prior(\"HalfNormal\", sigma=100)),\n",
    "          \"sigma\": bmb.Prior(\"HalfNormal\", sigma=10)}\n",
    "model2.set_priors(priors = priors)\n",
    "\n",
    "trace2 = model2.fit(draws=2000, random_seed=RANDOM_SEED)\n",
    "\n",
    "post_pred = model2.predict(trace2, data = PISA2018, inplace=False).posterior[\"PV1READ_mean\"]\n",
    "mean_pred = np.array(post_pred.mean(dim=[\"chain\", \"draw\"]))\n",
    "print(f'The RMSE for model 2 - PV1READ ~ JOYREAD + PISADIFF + SCREADCOMP + SCREADDIFF + (1|SchoolID) is: {sqrt(mean_squared_error(PISA2018[\"PV1READ\"], mean_pred))}')"
   ]
  },
  {
   "cell_type": "code",
   "execution_count": 7,
   "metadata": {},
   "outputs": [
    {
     "data": {
      "text/html": [
       "\n",
       "<style>\n",
       "    /* Turns off some styling */\n",
       "    progress {\n",
       "        /* gets rid of default border in Firefox and Opera. */\n",
       "        border: none;\n",
       "        /* Needs to be in here for Safari polyfill so background images work as expected. */\n",
       "        background-size: auto;\n",
       "    }\n",
       "    progress:not([value]), progress:not([value])::-webkit-progress-bar {\n",
       "        background: repeating-linear-gradient(45deg, #7e7e7e, #7e7e7e 10px, #5c5c5c 10px, #5c5c5c 20px);\n",
       "    }\n",
       "    .progress-bar-interrupted, .progress-bar-interrupted::-webkit-progress-bar {\n",
       "        background: #F44336;\n",
       "    }\n",
       "</style>\n"
      ],
      "text/plain": [
       "<IPython.core.display.HTML object>"
      ]
     },
     "metadata": {},
     "output_type": "display_data"
    },
    {
     "data": {
      "text/html": [
       "\n",
       "    <div>\n",
       "      <progress value='6000' class='' max='6000' style='width:300px; height:20px; vertical-align: middle;'></progress>\n",
       "      100.00% [6000/6000 02:24&lt;00:00 Sampling 2 chains, 0 divergences]\n",
       "    </div>\n",
       "    "
      ],
      "text/plain": [
       "<IPython.core.display.HTML object>"
      ]
     },
     "metadata": {},
     "output_type": "display_data"
    },
    {
     "name": "stdout",
     "output_type": "stream",
     "text": [
      "The RMSE for model 3 - PV1READ ~ METASUM + GFOFAIL + MASTGOAL + SWBP + WORKMAST + ADAPTIVITY + COMPETE + (1|SchoolID) is: 91.3002665440078\n",
      "CPU times: user 11.4 s, sys: 3.98 s, total: 15.4 s\n",
      "Wall time: 2min 32s\n"
     ]
    }
   ],
   "source": [
    "%%time\n",
    "#PV1READ ~ METASUM + GFOFAIL + MASTGOAL + SWBP + WORKMAST + ADAPTIVITY + COMPETE + (1|SchoolID)\n",
    "model3 = bmb.Model(\"PV1READ ~ METASUM + GFOFAIL + MASTGOAL + SWBP + WORKMAST + ADAPTIVITY + COMPETE + (1|SchoolID)\", PISA2018, categorical = [\"SchoolID\"])\n",
    "\n",
    "priors = {\"Intercept\": bmb.Prior(\"Normal\", mu=0, sigma=100),\n",
    "          \"METASUM\": bmb.Prior(\"Normal\", mu=np.mean(PISA2018[\"METASUM\"]), sigma=np.std(PISA2018[\"METASUM\"])),\n",
    "          \"GFOFAIL\": bmb.Prior(\"Normal\", mu=0, sigma=100),\n",
    "          \"MASTGOAL\": bmb.Prior(\"Normal\", mu=np.mean(PISA2018[\"MASTGOAL\"]), sigma=10),\n",
    "          \"SWBP\": bmb.Prior(\"Normal\", mu=0, sigma=100),\n",
    "          \"WORKMAST\": bmb.Prior(\"Normal\", mu=np.mean(PISA2018[\"WORKMAST\"]), sigma=10),\n",
    "          \"ADAPTIVITY\": bmb.Prior(\"Normal\", mu=np.mean(PISA2018[\"ADAPTIVITY\"]), sigma=100),\n",
    "          \"COMPETE\": bmb.Prior(\"Normal\", mu=np.mean(PISA2018[\"COMPETE\"]), sigma=np.std(PISA2018[\"COMPETE\"])),\n",
    "          \"1|SchoolID\": bmb.Prior(\"Normal\", mu=0, sigma=bmb.Prior(\"HalfNormal\", sigma=100)),\n",
    "          \"sigma\": bmb.Prior(\"HalfNormal\", sigma=10)}\n",
    "model3.set_priors(priors = priors)\n",
    "\n",
    "trace3 = model3.fit(draws=2000, random_seed=RANDOM_SEED)\n",
    "\n",
    "post_pred = model3.predict(trace3, data = PISA2018, inplace=False).posterior[\"PV1READ_mean\"]\n",
    "mean_pred = np.array(post_pred.mean(dim=[\"chain\", \"draw\"]))\n",
    "print(f'The RMSE for model 3 - PV1READ ~ METASUM + GFOFAIL + MASTGOAL + SWBP + WORKMAST + ADAPTIVITY + COMPETE + (1|SchoolID) is: {sqrt(mean_squared_error(PISA2018[\"PV1READ\"], mean_pred))}')"
   ]
  },
  {
   "cell_type": "code",
   "execution_count": 8,
   "metadata": {},
   "outputs": [
    {
     "data": {
      "text/html": [
       "\n",
       "<style>\n",
       "    /* Turns off some styling */\n",
       "    progress {\n",
       "        /* gets rid of default border in Firefox and Opera. */\n",
       "        border: none;\n",
       "        /* Needs to be in here for Safari polyfill so background images work as expected. */\n",
       "        background-size: auto;\n",
       "    }\n",
       "    progress:not([value]), progress:not([value])::-webkit-progress-bar {\n",
       "        background: repeating-linear-gradient(45deg, #7e7e7e, #7e7e7e 10px, #5c5c5c 10px, #5c5c5c 20px);\n",
       "    }\n",
       "    .progress-bar-interrupted, .progress-bar-interrupted::-webkit-progress-bar {\n",
       "        background: #F44336;\n",
       "    }\n",
       "</style>\n"
      ],
      "text/plain": [
       "<IPython.core.display.HTML object>"
      ]
     },
     "metadata": {},
     "output_type": "display_data"
    },
    {
     "data": {
      "text/html": [
       "\n",
       "    <div>\n",
       "      <progress value='6000' class='' max='6000' style='width:300px; height:20px; vertical-align: middle;'></progress>\n",
       "      100.00% [6000/6000 02:48&lt;00:00 Sampling 2 chains, 0 divergences]\n",
       "    </div>\n",
       "    "
      ],
      "text/plain": [
       "<IPython.core.display.HTML object>"
      ]
     },
     "metadata": {},
     "output_type": "display_data"
    },
    {
     "name": "stdout",
     "output_type": "stream",
     "text": [
      "The RMSE for model 4 - PV1READ ~ PERFEED + TEACHINT + BELONG + (1 + TEACHINT | SchoolID) is: 94.73175793497317\n",
      "CPU times: user 13.8 s, sys: 4.91 s, total: 18.7 s\n",
      "Wall time: 2min 57s\n"
     ]
    }
   ],
   "source": [
    "%%time\n",
    "#PV1READ ~ PERFEED + TEACHINT + BELONG + (1 + TEACHINT | SchoolID)\n",
    "model4 = bmb.Model(\"PV1READ ~ PERFEED + TEACHINT + BELONG + (1 + TEACHINT | SchoolID)\", PISA2018, categorical = [\"SchoolID\"])\n",
    "\n",
    "priors = {\"Intercept\": bmb.Prior(\"Normal\", mu=0, sigma=100),\n",
    "          \"PERFEED\": bmb.Prior(\"Normal\", mu=np.mean(PISA2018[\"PERFEED\"]), sigma=np.std(PISA2018[\"PERFEED\"])),\n",
    "          \"TEACHINT\": bmb.Prior(\"Normal\", mu=np.mean(PISA2018[\"TEACHINT\"]), sigma=np.std(PISA2018[\"TEACHINT\"])),\n",
    "          \"BELONG\": bmb.Prior(\"Normal\", mu=np.mean(PISA2018[\"BELONG\"]), sigma=100),\n",
    "          \"1|SchoolID\": bmb.Prior(\"Normal\", mu=0, sigma=bmb.Prior(\"HalfNormal\", sigma=100)),\n",
    "          \"TEACHINT|SchoolID\": bmb.Prior(\"Normal\", mu=0, sigma=bmb.Prior(\"HalfNormal\", sigma=100)),\n",
    "          \"sigma\": bmb.Prior(\"HalfNormal\", sigma=10)}\n",
    "model4.set_priors(priors = priors)\n",
    "\n",
    "trace4 = model4.fit(draws=2000, random_seed=RANDOM_SEED)\n",
    "\n",
    "post_pred = model4.predict(trace4, data = PISA2018, inplace=False).posterior[\"PV1READ_mean\"]\n",
    "mean_pred = np.array(post_pred.mean(dim=[\"chain\", \"draw\"]))\n",
    "print(f'The RMSE for model 4 - PV1READ ~ PERFEED + TEACHINT + BELONG + (1 + TEACHINT | SchoolID) is: {sqrt(mean_squared_error(PISA2018[\"PV1READ\"], mean_pred))}')"
   ]
  },
  {
   "cell_type": "code",
   "execution_count": 9,
   "metadata": {},
   "outputs": [],
   "source": [
    "# A wrapper class for the Bambi/PYMC models to be compatible with the Taweret framework\n",
    "class BMBWrapper(BaseModel):\n",
    "    def __init__(self, model, idata, posterior_predictive):\n",
    "        self.model = model\n",
    "        self.idata = idata\n",
    "        self.posterior_predictive = posterior_predictive\n",
    "        \n",
    "    def evaluate(self, model_parameters):\n",
    "        post_pred = self.model.predict(self.idata, data = model_parameters, inplace=False).posterior[self.posterior_predictive]\n",
    "        return np.array(post_pred.mean(dim=[\"chain\", \"draw\"])).reshape(-1, 1), np.sqrt(np.array(post_pred.var(dim=[\"chain\", \"draw\"]))).flatten().reshape(-1, 1)\n",
    "\n",
    "    \n",
    "    def log_likelihood_elementwise(self,x_exp, y_exp, y_err, model_params):\n",
    "        y = self.evaluate(model_params)[0]\n",
    "        \n",
    "        return np.exp(-(y - y_exp) **2 / (2 * y_err ** 2)) \\\n",
    "            / np.sqrt(2 * np.pi * y_err ** 2)\n",
    "    \n",
    "    def set_prior(self, prior_dict):\n",
    "        self.model.set_priors(self, priors=prior_dict)\n"
   ]
  },
  {
   "cell_type": "code",
   "execution_count": 10,
   "metadata": {},
   "outputs": [],
   "source": [
    "models = {\n",
    "            \"1\": BMBWrapper(model1, trace1, \"PV1READ_mean\"),\n",
    "            \"2\": BMBWrapper(model2, trace2, \"PV1READ_mean\"),\n",
    "            \"3\": BMBWrapper(model3, trace3, \"PV1READ_mean\"),\n",
    "            \"4\": BMBWrapper(model4, trace4, \"PV1READ_mean\")\n",
    "}"
   ]
  },
  {
   "cell_type": "code",
   "execution_count": 12,
   "metadata": {},
   "outputs": [
    {
     "name": "stderr",
     "output_type": "stream",
     "text": [
      "/home/eedwards/Downloads/URS23_BayesML/Taweret/mix/trees.py:913: FutureWarning: Series.__getitem__ treating keys as positions is deprecated. In a future version, integer keys will always be treated as labels (consistent with DataFrame behavior). To access a value by position, use `ser.iloc[pos]`\n",
      "  xinc = (maxx[feat] - minx[feat]) / (self.numcut + 1)\n",
      "/home/eedwards/Downloads/URS23_BayesML/Taweret/mix/trees.py:915: FutureWarning: Series.__getitem__ treating keys as positions is deprecated. In a future version, integer keys will always be treated as labels (consistent with DataFrame behavior). To access a value by position, use `ser.iloc[pos]`\n",
      "  np.arange(1, (self.numcut) + 1) * xinc + minx[feat]]\n",
      "/home/eedwards/.local/lib/python3.10/site-packages/numpy/core/fromnumeric.py:59: FutureWarning: 'DataFrame.swapaxes' is deprecated and will be removed in a future version. Please use 'DataFrame.transpose' instead.\n",
      "  return bound(*args, **kwds)\n"
     ]
    },
    {
     "name": "stdout",
     "output_type": "stream",
     "text": [
      "Results stored in temporary path: /tmp/openbtpy_o1smu1fm\n",
      "Running model...\n"
     ]
    },
    {
     "name": "stderr",
     "output_type": "stream",
     "text": [
      "/home/eedwards/.local/lib/python3.10/site-packages/numpy/core/fromnumeric.py:59: FutureWarning: 'DataFrame.swapaxes' is deprecated and will be removed in a future version. Please use 'DataFrame.transpose' instead.\n",
      "  return bound(*args, **kwds)\n"
     ]
    }
   ],
   "source": [
    "#Fit the BMM Model\n",
    "# Initialize the Trees class instance\n",
    "mix = Trees(model_dict = models)\n",
    "\n",
    "# Set prior informastion\n",
    "mix.set_prior(k=2.5,ntree=200,overallnu=5,overallsd=0.01,inform_prior=False)\n",
    "\n",
    "# Train the model\n",
    "fit = mix.train(X=PISA2018, y=np.array(PISA2018[\"PV1READ\"]), ndpost = 10000, nadapt = 2000, nskip = 2000, adaptevery = 500, minnumbot = 4)"
   ]
  },
  {
   "cell_type": "code",
   "execution_count": 13,
   "metadata": {},
   "outputs": [
    {
     "name": "stderr",
     "output_type": "stream",
     "text": [
      "/home/eedwards/.local/lib/python3.10/site-packages/numpy/core/fromnumeric.py:59: FutureWarning: 'DataFrame.swapaxes' is deprecated and will be removed in a future version. Please use 'DataFrame.transpose' instead.\n",
      "  return bound(*args, **kwds)\n",
      "/home/eedwards/.local/lib/python3.10/site-packages/numpy/core/fromnumeric.py:59: FutureWarning: 'DataFrame.swapaxes' is deprecated and will be removed in a future version. Please use 'DataFrame.transpose' instead.\n",
      "  return bound(*args, **kwds)\n"
     ]
    }
   ],
   "source": [
    "ppost, pmean, pci, pstd = mix.predict(X = PISA2018, ci = 0.95)\n",
    "wpost, wmean, wci, wstd = mix.predict_weights(X = PISA2018, ci = 0.95)"
   ]
  },
  {
   "cell_type": "code",
   "execution_count": 14,
   "metadata": {},
   "outputs": [
    {
     "name": "stdout",
     "output_type": "stream",
     "text": [
      "The RMSE for BARTis: 13.807251220972741\n"
     ]
    }
   ],
   "source": [
    "print(f'The RMSE for BARTis: {sqrt(mean_squared_error(PISA2018[\"PV1READ\"], pmean))}')"
   ]
  },
  {
   "cell_type": "code",
   "execution_count": null,
   "metadata": {},
   "outputs": [],
   "source": []
  }
 ],
 "metadata": {
  "kernelspec": {
   "display_name": "Python 3 (ipykernel)",
   "language": "python",
   "name": "python3"
  },
  "language_info": {
   "codemirror_mode": {
    "name": "ipython",
    "version": 3
   },
   "file_extension": ".py",
   "mimetype": "text/x-python",
   "name": "python",
   "nbconvert_exporter": "python",
   "pygments_lexer": "ipython3",
   "version": "3.10.12"
  }
 },
 "nbformat": 4,
 "nbformat_minor": 4
}
