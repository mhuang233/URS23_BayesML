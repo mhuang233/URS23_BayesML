{
 "cells": [
  {
   "cell_type": "markdown",
   "metadata": {},
   "source": [
    "# Bayesian Model Mixing and Optimization\n",
    "### Evan Edwards\n",
    "\n",
    "- Multivariate Mixing With The Following Models That Use Mixed-Informative Priors:\n",
    "    - PV1READ ~ Female + ESCS + HOMEPOS + ICTRES + (1 + ICTRES | SchoolID)\n",
    "    - PV1READ ~ JOYREAD + PISADIFF + SCREADCOMP + SCREADDIFF + (1|SchoolID)\n",
    "    - PV1READ ~ METASUM + GFOFAIL + MASTGOAL + SWBP + WORKMAST + ADAPTIVITY + COMPETE + (1|SchoolID)\n",
    "    - PV1READ ~ PERFEED + TEACHINT + BELONG + (1 + TEACHINT | SchoolID)\n",
    "- Sensitivity Analysis\n",
    "- Optimization"
   ]
  },
  {
   "cell_type": "code",
   "execution_count": 1,
   "metadata": {},
   "outputs": [
    {
     "name": "stderr",
     "output_type": "stream",
     "text": [
      "WARNING (pytensor.tensor.blas): Using NumPy C-API based implementation for BLAS functions.\n"
     ]
    }
   ],
   "source": [
    "from Taweret.core.base_model import BaseModel\n",
    "import numpy as np\n",
    "import pymc as pm\n",
    "import pandas as pd\n",
    "from sklearn.metrics import mean_squared_error\n",
    "from Taweret.core.base_mixer import BaseMixer\n",
    "from math import sqrt\n",
    "from scipy.optimize import minimize\n",
    "import logging\n",
    "import bambi as bmb"
   ]
  },
  {
   "cell_type": "code",
   "execution_count": 2,
   "metadata": {},
   "outputs": [],
   "source": [
    "#Fixed random seed to ensure reproducibility and the possiblility for optimization\n",
    "RANDOM_SEED = 9572404\n",
    "rng = np.random.default_rng(RANDOM_SEED)"
   ]
  },
  {
   "cell_type": "code",
   "execution_count": 3,
   "metadata": {},
   "outputs": [],
   "source": [
    "# Defining to disable output later for ease of visibility\n",
    "logger = logging.getLogger(\"pymc\")\n",
    "# Disabling sampling messages\n",
    "logger.setLevel(logging.ERROR)"
   ]
  },
  {
   "cell_type": "code",
   "execution_count": 4,
   "metadata": {},
   "outputs": [],
   "source": [
    "# Load dataset\n",
    "PISA2018 = pd.read_csv(\"pisa2018.BayesBook.csv\")\n",
    "# Data processing: converting categorical values to numerical values\n",
    "PISA2018['Female'] = PISA2018['Female'].replace({'Female': 1.0, 'Male': 0.0})\n",
    "# Converting numerical to categorical values\n",
    "PISA2018['SchoolID'] = pd.Categorical(PISA2018['SchoolID']).codes"
   ]
  },
  {
   "cell_type": "code",
   "execution_count": 5,
   "metadata": {},
   "outputs": [
    {
     "data": {
      "text/html": [
       "\n",
       "<style>\n",
       "    /* Turns off some styling */\n",
       "    progress {\n",
       "        /* gets rid of default border in Firefox and Opera. */\n",
       "        border: none;\n",
       "        /* Needs to be in here for Safari polyfill so background images work as expected. */\n",
       "        background-size: auto;\n",
       "    }\n",
       "    progress:not([value]), progress:not([value])::-webkit-progress-bar {\n",
       "        background: repeating-linear-gradient(45deg, #7e7e7e, #7e7e7e 10px, #5c5c5c 10px, #5c5c5c 20px);\n",
       "    }\n",
       "    .progress-bar-interrupted, .progress-bar-interrupted::-webkit-progress-bar {\n",
       "        background: #F44336;\n",
       "    }\n",
       "</style>\n"
      ],
      "text/plain": [
       "<IPython.core.display.HTML object>"
      ]
     },
     "metadata": {},
     "output_type": "display_data"
    },
    {
     "data": {
      "text/html": [
       "\n",
       "    <div>\n",
       "      <progress value='12000' class='' max='12000' style='width:300px; height:20px; vertical-align: middle;'></progress>\n",
       "      100.00% [12000/12000 02:24&lt;00:00 Sampling 4 chains, 0 divergences]\n",
       "    </div>\n",
       "    "
      ],
      "text/plain": [
       "<IPython.core.display.HTML object>"
      ]
     },
     "metadata": {},
     "output_type": "display_data"
    },
    {
     "name": "stdout",
     "output_type": "stream",
     "text": [
      "The RMSE for model 1 - PV1READ ~ Female + ESCS + HOMEPOS + ICTRES + (1 + ICTRES | SchoolID) is: 94.1648602282953\n",
      "CPU times: total: 56.7 s\n",
      "Wall time: 3min 36s\n"
     ]
    }
   ],
   "source": [
    "%%time\n",
    "#PV1READ ~ Female + ESCS + HOMEPOS + ICTRES + (1 + ICTRES | SchoolID)\n",
    "model1 = bmb.Model(\"PV1READ ~ Female + ESCS + HOMEPOS + ICTRES + (1 + ICTRES | SchoolID)\", PISA2018, categorical = [\"SchoolID\"])\n",
    "priors = {\"Intercept\": bmb.Prior(\"Normal\", mu=0, sigma=100),\n",
    "          \"Female\": bmb.Prior(\"Normal\", mu=0, sigma=10),\n",
    "          \"ESCS\": bmb.Prior(\"Normal\", mu=np.mean(PISA2018[\"ESCS\"]), sigma=np.std(PISA2018[\"ESCS\"])),\n",
    "          \"HOMEPOS\": bmb.Prior(\"Normal\", mu=np.mean(PISA2018[\"HOMEPOS\"]), sigma=100),\n",
    "          \"ICTRES\": bmb.Prior(\"Normal\", mu=np.mean(PISA2018[\"ICTRES\"]), sigma=np.std(PISA2018[\"ICTRES\"])),\n",
    "          \"1|SchoolID\": bmb.Prior(\"Normal\", mu=0, sigma=bmb.Prior(\"HalfNormal\", sigma=100)),\n",
    "          \"ICTRES|SchoolID\": bmb.Prior(\"Normal\", mu=0, sigma=bmb.Prior(\"HalfNormal\", sigma=100)),\n",
    "          \"sigma\": bmb.Prior(\"HalfNormal\", sigma=10)}\n",
    "model1.set_priors(priors = priors)\n",
    "\n",
    "trace1 = model1.fit(draws=2000, random_seed=RANDOM_SEED)\n",
    "\n",
    "post_pred = model1.predict(trace1,data = PISA2018, inplace=False).posterior[\"PV1READ_mean\"]\n",
    "mean_pred = np.array(post_pred.mean(dim=[\"chain\", \"draw\"]))\n",
    "print(f'The RMSE for model 1 - PV1READ ~ Female + ESCS + HOMEPOS + ICTRES + (1 + ICTRES | SchoolID) is: {sqrt(mean_squared_error(PISA2018[\"PV1READ\"], mean_pred))}')"
   ]
  },
  {
   "cell_type": "code",
   "execution_count": 6,
   "metadata": {},
   "outputs": [
    {
     "data": {
      "text/html": [
       "\n",
       "<style>\n",
       "    /* Turns off some styling */\n",
       "    progress {\n",
       "        /* gets rid of default border in Firefox and Opera. */\n",
       "        border: none;\n",
       "        /* Needs to be in here for Safari polyfill so background images work as expected. */\n",
       "        background-size: auto;\n",
       "    }\n",
       "    progress:not([value]), progress:not([value])::-webkit-progress-bar {\n",
       "        background: repeating-linear-gradient(45deg, #7e7e7e, #7e7e7e 10px, #5c5c5c 10px, #5c5c5c 20px);\n",
       "    }\n",
       "    .progress-bar-interrupted, .progress-bar-interrupted::-webkit-progress-bar {\n",
       "        background: #F44336;\n",
       "    }\n",
       "</style>\n"
      ],
      "text/plain": [
       "<IPython.core.display.HTML object>"
      ]
     },
     "metadata": {},
     "output_type": "display_data"
    },
    {
     "data": {
      "text/html": [
       "\n",
       "    <div>\n",
       "      <progress value='12000' class='' max='12000' style='width:300px; height:20px; vertical-align: middle;'></progress>\n",
       "      100.00% [12000/12000 02:17&lt;00:00 Sampling 4 chains, 0 divergences]\n",
       "    </div>\n",
       "    "
      ],
      "text/plain": [
       "<IPython.core.display.HTML object>"
      ]
     },
     "metadata": {},
     "output_type": "display_data"
    },
    {
     "name": "stdout",
     "output_type": "stream",
     "text": [
      "The RMSE for model 2 - PV1READ ~ JOYREAD + PISADIFF + SCREADCOMP + SCREADDIFF + (1|SchoolID) is: 86.0274037911334\n",
      "CPU times: total: 44.5 s\n",
      "Wall time: 3min 20s\n"
     ]
    }
   ],
   "source": [
    "%%time\n",
    "#PV1READ ~ JOYREAD + PISADIFF + SCREADCOMP + SCREADDIFF + (1|SchoolID)\n",
    "model2 = bmb.Model(\"PV1READ ~ JOYREAD + PISADIFF + SCREADCOMP + SCREADDIFF + (1|SchoolID)\", PISA2018, categorical = [\"SchoolID\"])\n",
    "\n",
    "priors = {\"Intercept\": bmb.Prior(\"Normal\", mu=0, sigma=100),\n",
    "          \"JOYREAD\": bmb.Prior(\"Normal\", mu=np.mean(PISA2018[\"JOYREAD\"]), sigma=np.std(PISA2018[\"JOYREAD\"])),\n",
    "          \"PISADIFF\": bmb.Prior(\"Normal\", mu=0, sigma=100),\n",
    "          \"SCREADCOMP\": bmb.Prior(\"Normal\", mu=np.mean(PISA2018[\"SCREADCOMP\"]), sigma=10),\n",
    "          \"SCREADDIFF\": bmb.Prior(\"Normal\", mu=np.mean(PISA2018[\"SCREADDIFF\"]), sigma=np.std(PISA2018[\"SCREADDIFF\"])),\n",
    "          \"1|SchoolID\": bmb.Prior(\"Normal\", mu=0, sigma=bmb.Prior(\"HalfNormal\", sigma=100)),\n",
    "          \"sigma\": bmb.Prior(\"HalfNormal\", sigma=10)}\n",
    "model2.set_priors(priors = priors)\n",
    "\n",
    "trace2 = model2.fit(draws=2000, random_seed=RANDOM_SEED)\n",
    "\n",
    "post_pred = model2.predict(trace2, data = PISA2018, inplace=False).posterior[\"PV1READ_mean\"]\n",
    "mean_pred = np.array(post_pred.mean(dim=[\"chain\", \"draw\"]))\n",
    "print(f'The RMSE for model 2 - PV1READ ~ JOYREAD + PISADIFF + SCREADCOMP + SCREADDIFF + (1|SchoolID) is: {sqrt(mean_squared_error(PISA2018[\"PV1READ\"], mean_pred))}')"
   ]
  },
  {
   "cell_type": "code",
   "execution_count": 7,
   "metadata": {},
   "outputs": [
    {
     "data": {
      "text/html": [
       "\n",
       "<style>\n",
       "    /* Turns off some styling */\n",
       "    progress {\n",
       "        /* gets rid of default border in Firefox and Opera. */\n",
       "        border: none;\n",
       "        /* Needs to be in here for Safari polyfill so background images work as expected. */\n",
       "        background-size: auto;\n",
       "    }\n",
       "    progress:not([value]), progress:not([value])::-webkit-progress-bar {\n",
       "        background: repeating-linear-gradient(45deg, #7e7e7e, #7e7e7e 10px, #5c5c5c 10px, #5c5c5c 20px);\n",
       "    }\n",
       "    .progress-bar-interrupted, .progress-bar-interrupted::-webkit-progress-bar {\n",
       "        background: #F44336;\n",
       "    }\n",
       "</style>\n"
      ],
      "text/plain": [
       "<IPython.core.display.HTML object>"
      ]
     },
     "metadata": {},
     "output_type": "display_data"
    },
    {
     "data": {
      "text/html": [
       "\n",
       "    <div>\n",
       "      <progress value='12000' class='' max='12000' style='width:300px; height:20px; vertical-align: middle;'></progress>\n",
       "      100.00% [12000/12000 03:45&lt;00:00 Sampling 4 chains, 0 divergences]\n",
       "    </div>\n",
       "    "
      ],
      "text/plain": [
       "<IPython.core.display.HTML object>"
      ]
     },
     "metadata": {},
     "output_type": "display_data"
    },
    {
     "name": "stdout",
     "output_type": "stream",
     "text": [
      "The RMSE for model 3 - PV1READ ~ METASUM + GFOFAIL + MASTGOAL + SWBP + WORKMAST + ADAPTIVITY + COMPETE + (1|SchoolID) is: 91.30095525810611\n",
      "CPU times: total: 1min 1s\n",
      "Wall time: 4min 50s\n"
     ]
    }
   ],
   "source": [
    "%%time\n",
    "#PV1READ ~ METASUM + GFOFAIL + MASTGOAL + SWBP + WORKMAST + ADAPTIVITY + COMPETE + (1|SchoolID)\n",
    "model3 = bmb.Model(\"PV1READ ~ METASUM + GFOFAIL + MASTGOAL + SWBP + WORKMAST + ADAPTIVITY + COMPETE + (1|SchoolID)\", PISA2018, categorical = [\"SchoolID\"])\n",
    "\n",
    "priors = {\"Intercept\": bmb.Prior(\"Normal\", mu=0, sigma=100),\n",
    "          \"METASUM\": bmb.Prior(\"Normal\", mu=np.mean(PISA2018[\"METASUM\"]), sigma=np.std(PISA2018[\"METASUM\"])),\n",
    "          \"GFOFAIL\": bmb.Prior(\"Normal\", mu=0, sigma=100),\n",
    "          \"MASTGOAL\": bmb.Prior(\"Normal\", mu=np.mean(PISA2018[\"MASTGOAL\"]), sigma=10),\n",
    "          \"SWBP\": bmb.Prior(\"Normal\", mu=0, sigma=100),\n",
    "          \"WORKMAST\": bmb.Prior(\"Normal\", mu=np.mean(PISA2018[\"WORKMAST\"]), sigma=10),\n",
    "          \"ADAPTIVITY\": bmb.Prior(\"Normal\", mu=np.mean(PISA2018[\"ADAPTIVITY\"]), sigma=100),\n",
    "          \"COMPETE\": bmb.Prior(\"Normal\", mu=np.mean(PISA2018[\"COMPETE\"]), sigma=np.std(PISA2018[\"COMPETE\"])),\n",
    "          \"1|SchoolID\": bmb.Prior(\"Normal\", mu=0, sigma=bmb.Prior(\"HalfNormal\", sigma=100)),\n",
    "          \"sigma\": bmb.Prior(\"HalfNormal\", sigma=10)}\n",
    "model3.set_priors(priors = priors)\n",
    "\n",
    "trace3 = model3.fit(draws=2000, random_seed=RANDOM_SEED)\n",
    "\n",
    "post_pred = model3.predict(trace3, data = PISA2018, inplace=False).posterior[\"PV1READ_mean\"]\n",
    "mean_pred = np.array(post_pred.mean(dim=[\"chain\", \"draw\"]))\n",
    "print(f'The RMSE for model 3 - PV1READ ~ METASUM + GFOFAIL + MASTGOAL + SWBP + WORKMAST + ADAPTIVITY + COMPETE + (1|SchoolID) is: {sqrt(mean_squared_error(PISA2018[\"PV1READ\"], mean_pred))}')"
   ]
  },
  {
   "cell_type": "code",
   "execution_count": 8,
   "metadata": {},
   "outputs": [
    {
     "data": {
      "text/html": [
       "\n",
       "<style>\n",
       "    /* Turns off some styling */\n",
       "    progress {\n",
       "        /* gets rid of default border in Firefox and Opera. */\n",
       "        border: none;\n",
       "        /* Needs to be in here for Safari polyfill so background images work as expected. */\n",
       "        background-size: auto;\n",
       "    }\n",
       "    progress:not([value]), progress:not([value])::-webkit-progress-bar {\n",
       "        background: repeating-linear-gradient(45deg, #7e7e7e, #7e7e7e 10px, #5c5c5c 10px, #5c5c5c 20px);\n",
       "    }\n",
       "    .progress-bar-interrupted, .progress-bar-interrupted::-webkit-progress-bar {\n",
       "        background: #F44336;\n",
       "    }\n",
       "</style>\n"
      ],
      "text/plain": [
       "<IPython.core.display.HTML object>"
      ]
     },
     "metadata": {},
     "output_type": "display_data"
    },
    {
     "data": {
      "text/html": [
       "\n",
       "    <div>\n",
       "      <progress value='12000' class='' max='12000' style='width:300px; height:20px; vertical-align: middle;'></progress>\n",
       "      100.00% [12000/12000 02:36&lt;00:00 Sampling 4 chains, 0 divergences]\n",
       "    </div>\n",
       "    "
      ],
      "text/plain": [
       "<IPython.core.display.HTML object>"
      ]
     },
     "metadata": {},
     "output_type": "display_data"
    },
    {
     "name": "stdout",
     "output_type": "stream",
     "text": [
      "The RMSE for model 4 - PV1READ ~ PERFEED + TEACHINT + BELONG + (1 + TEACHINT | SchoolID) is: 94.72730464194656\n",
      "CPU times: total: 1min 8s\n",
      "Wall time: 7min 8s\n"
     ]
    }
   ],
   "source": [
    "%%time\n",
    "#PV1READ ~ PERFEED + TEACHINT + BELONG + (1 + TEACHINT | SchoolID)\n",
    "model4 = bmb.Model(\"PV1READ ~ PERFEED + TEACHINT + BELONG + (1 + TEACHINT | SchoolID)\", PISA2018, categorical = [\"SchoolID\"])\n",
    "\n",
    "priors = {\"Intercept\": bmb.Prior(\"Normal\", mu=0, sigma=100),\n",
    "          \"PERFEED\": bmb.Prior(\"Normal\", mu=np.mean(PISA2018[\"PERFEED\"]), sigma=np.std(PISA2018[\"PERFEED\"])),\n",
    "          \"TEACHINT\": bmb.Prior(\"Normal\", mu=np.mean(PISA2018[\"TEACHINT\"]), sigma=np.std(PISA2018[\"TEACHINT\"])),\n",
    "          \"BELONG\": bmb.Prior(\"Normal\", mu=np.mean(PISA2018[\"BELONG\"]), sigma=100),\n",
    "          \"1|SchoolID\": bmb.Prior(\"Normal\", mu=0, sigma=bmb.Prior(\"HalfNormal\", sigma=100)),\n",
    "          \"TEACHINT|SchoolID\": bmb.Prior(\"Normal\", mu=0, sigma=bmb.Prior(\"HalfNormal\", sigma=100)),\n",
    "          \"sigma\": bmb.Prior(\"HalfNormal\", sigma=10)}\n",
    "model4.set_priors(priors = priors)\n",
    "\n",
    "trace4 = model4.fit(draws=2000, random_seed=RANDOM_SEED)\n",
    "\n",
    "post_pred = model4.predict(trace4, data = PISA2018, inplace=False).posterior[\"PV1READ_mean\"]\n",
    "mean_pred = np.array(post_pred.mean(dim=[\"chain\", \"draw\"]))\n",
    "print(f'The RMSE for model 4 - PV1READ ~ PERFEED + TEACHINT + BELONG + (1 + TEACHINT | SchoolID) is: {sqrt(mean_squared_error(PISA2018[\"PV1READ\"], mean_pred))}')"
   ]
  },
  {
   "cell_type": "code",
   "execution_count": 9,
   "metadata": {},
   "outputs": [],
   "source": [
    "# A wrapper class for the Bambi/PYMC models to be compatible with the Taweret framework\n",
    "class BMBWrapper(BaseModel):\n",
    "    def __init__(self, model, idata, posterior_predictive):\n",
    "        self.model = model\n",
    "        self.idata = idata\n",
    "        self.posterior_predictive = posterior_predictive\n",
    "        \n",
    "    def evaluate(self, model_parameters):\n",
    "        post_pred = self.model.predict(self.idata, data = model_parameters, inplace=False).posterior[self.posterior_predictive]\n",
    "        return np.array(post_pred.mean(dim=[\"chain\", \"draw\"])).reshape(-1, 1), np.sqrt(np.array(post_pred.var(dim=[\"chain\", \"draw\"]))).flatten().reshape(-1, 1)\n",
    "\n",
    "    \n",
    "    def log_likelihood_elementwise(self,x_exp, y_exp, y_err, model_params):\n",
    "        y = self.evaluate(model_params)[0]\n",
    "        \n",
    "        return np.exp(-(y - y_exp) **2 / (2 * y_err ** 2)) \\\n",
    "            / np.sqrt(2 * np.pi * y_err ** 2)\n",
    "    \n",
    "    def set_prior(self, prior_dict):\n",
    "        self.model.set_priors(self, priors=prior_dict)\n"
   ]
  },
  {
   "cell_type": "code",
   "execution_count": 10,
   "metadata": {},
   "outputs": [],
   "source": [
    "# A rudimentary mixer class that can assign weights to the models and optimize them, a child class of BaseMixer\n",
    "# Many abstract methods need to be defined, however they are not implemented becuase they are not needed\n",
    "\n",
    "class WeightableMultivariate(BaseMixer):\n",
    "    models = {}\n",
    "    weights = []\n",
    "    \n",
    "    def __init__(self, weights, models):\n",
    "        self.weights = weights\n",
    "        self.models = models\n",
    "\n",
    "\n",
    "    def set_params(self, weights):\n",
    "        self.weights = weights\n",
    "\n",
    "        return self\n",
    "\n",
    "\n",
    "    def predict(self, X):\n",
    "        cumulative_predictions = 0\n",
    "        \n",
    "        for x in range(0,len(self.weights)):\n",
    "            model_prediction, _ = self.models[str(x+1)].evaluate(X)\n",
    "            cumulative_predictions += model_prediction * self.weights[x]\n",
    "        \n",
    "        return cumulative_predictions\n",
    "    \n",
    "\n",
    "    def train(self):\n",
    "\n",
    "        # The objective function to be minimized\n",
    "        def objective(params):\n",
    "            self.set_params(params)\n",
    "            predictions = self.predict(PISA2018)\n",
    "            rmse = sqrt(mean_squared_error(PISA2018[\"PV1READ\"], predictions))\n",
    "            return rmse\n",
    "\n",
    "        # Initial guess of the weights and the constraints\n",
    "        initial_params = [0.25, 0.25, 0.25, 0.25]\n",
    "        constraints = ({'type': 'eq', 'fun': lambda x : np.sum(x) - 1.0})\n",
    "        bounds = [(0,1),(0,1),(0,1),(0,1)]\n",
    "\n",
    "        result = minimize(objective, initial_params, constraints=constraints, bounds = bounds)\n",
    "        \n",
    "        self.weights = result.x\n",
    "\n",
    "        return self\n",
    "\n",
    "\n",
    "    def evaluate_weights(self):\n",
    "        return self.weights\n",
    "    \n",
    "    def set_prior(self):\n",
    "        pass\n",
    "\n",
    "    def prior_predict(self):\n",
    "        pass\n",
    "    \n",
    "    def prior(self):\n",
    "        pass\n",
    "\n",
    "    def predict_weights(self):\n",
    "        pass\n",
    "\n",
    "    def posterior(self):\n",
    "        pass\n",
    "\n",
    "    def map(Self):\n",
    "        pass\n",
    "\n",
    "    def evaluate(self):\n",
    "        pass"
   ]
  },
  {
   "cell_type": "code",
   "execution_count": 11,
   "metadata": {},
   "outputs": [],
   "source": [
    "# Defining an instance of the custom mixer class\n",
    "\n",
    "mixer = WeightableMultivariate([0.25, 0.25, 0.25, 0.25],\n",
    "        {   \"1\": BMBWrapper(model1, trace1, \"PV1READ_mean\"),\n",
    "            \"2\": BMBWrapper(model2, trace2, \"PV1READ_mean\"),\n",
    "            \"3\": BMBWrapper(model3, trace3, \"PV1READ_mean\"),\n",
    "            \"4\": BMBWrapper(model4, trace4, \"PV1READ_mean\"),})"
   ]
  },
  {
   "cell_type": "code",
   "execution_count": 12,
   "metadata": {},
   "outputs": [
    {
     "name": "stdout",
     "output_type": "stream",
     "text": [
      "The RMSE score of params [0.25, 0.25, 0.25, 0.25]: 88.52103508972874\n",
      "The RMSE score of params [0.05, 0.6, 0.3, 0.05]: 85.32236613324066\n",
      "The RMSE score of params [0.4, 0.15, 0.05, 0.4]: 90.77713454677158\n",
      "The RMSE score of params [0.1, 0.35, 0.2, 0.35]: 87.74482722822798\n",
      "The RMSE score of params [0.1, 0.2, 0.3, 0.4]: 89.24281205118932\n",
      "The RMSE score of params [0.1, 0.2, 0.5, 0.2]: 88.55136244962752\n"
     ]
    }
   ],
   "source": [
    "# Basic sensitivity analysis, iterating through a set of predefined weights\n",
    "\n",
    "for x in [[0.25, 0.25, 0.25, 0.25],\n",
    "          [0.05, 0.6, 0.3, 0.05],\n",
    "          [0.4, 0.15, 0.05, 0.4],\n",
    "          [0.1, 0.35, 0.2, 0.35],\n",
    "          [0.1, 0.2, 0.3, 0.4],\n",
    "          [0.1, 0.2, 0.5, 0.2]]:\n",
    "    \n",
    "    mixer.set_params(x)\n",
    "    \n",
    "    print(f'The RMSE score of params {mixer.weights}: {((sqrt(mean_squared_error(PISA2018[\"PV1READ\"], mixer.predict(PISA2018)))))}')"
   ]
  },
  {
   "cell_type": "code",
   "execution_count": 13,
   "metadata": {},
   "outputs": [
    {
     "name": "stdout",
     "output_type": "stream",
     "text": [
      "The RMSE score of the optimized parameters [2.99184452e-16 7.10967259e-01 2.89032741e-01 1.07864118e-15]: 84.9444620826476\n"
     ]
    }
   ],
   "source": [
    " # Finding optimized parameters\n",
    "mixer.train()\n",
    "\n",
    "print(f'The RMSE score of the optimized parameters {mixer.evaluate_weights()}: {((sqrt(mean_squared_error(PISA2018[\"PV1READ\"], mixer.predict(PISA2018)))))}')"
   ]
  },
  {
   "cell_type": "markdown",
   "metadata": {},
   "source": [
    "[1.85200173e-16 7.12366185e-01 2.87633815e-01 1.65963739e-15]: 85.01453016147077"
   ]
  },
  {
   "cell_type": "markdown",
   "metadata": {},
   "source": [
    "[1.85200173e-16 7.12366185e-01 2.87633815e-01 1.65963739e-15]: 85.01453016147077"
   ]
  }
 ],
 "metadata": {
  "kernelspec": {
   "display_name": "Python 3",
   "language": "python",
   "name": "python3"
  },
  "language_info": {
   "codemirror_mode": {
    "name": "ipython",
    "version": 3
   },
   "file_extension": ".py",
   "mimetype": "text/x-python",
   "name": "python",
   "nbconvert_exporter": "python",
   "pygments_lexer": "ipython3",
   "version": "3.11.5"
  }
 },
 "nbformat": 4,
 "nbformat_minor": 2
}
