{
 "cells": [
  {
   "cell_type": "markdown",
   "metadata": {},
   "source": [
    "### Simple hierarchical linear model (HLM) \n",
    "Evan Edwards"
   ]
  },
  {
   "cell_type": "markdown",
   "metadata": {},
   "source": [
    "The HLM is: pvmath1 = 1 + female +  escs + random intercept for school\n",
    "\n"
   ]
  },
  {
   "cell_type": "code",
   "execution_count": null,
   "metadata": {},
   "outputs": [],
   "source": [
    "# Imports\n",
    "import pandas as pd\n",
    "import numpy as np\n",
    "import statsmodels.formula.api as smf\n",
    "import matplotlib.pyplot as plt\n",
    "from sklearn.metrics import r2_score, mean_squared_error"
   ]
  },
  {
   "cell_type": "code",
   "execution_count": null,
   "metadata": {},
   "outputs": [],
   "source": [
    "# Load dataset\n",
    "PISA2018 = pd.read_csv(\"pisa2018.BayesBook.csv\")"
   ]
  },
  {
   "cell_type": "code",
   "execution_count": null,
   "metadata": {},
   "outputs": [],
   "source": [
    "# Data processing: converting categorical values to numerical values\n",
    "PISA2018['Female'] = PISA2018['Female'].replace({'Female': 1, 'Male': 0})"
   ]
  },
  {
   "cell_type": "code",
   "execution_count": null,
   "metadata": {},
   "outputs": [],
   "source": [
    "# The formula, model defaults to random intercepts per group\n",
    "formula = \"PV1MATH ~ C(Female) + ESCS\"\n",
    "\n",
    "# Creating the model\n",
    "model = smf.mixedlm(formula, groups=PISA2018['SchoolID'], data=PISA2018)\n",
    "\n",
    "# Getting the fit model\n",
    "result = model.fit()\n",
    "\n",
    "# Printing the model summary\n",
    "print(result.summary())"
   ]
  },
  {
   "cell_type": "code",
   "execution_count": null,
   "metadata": {},
   "outputs": [],
   "source": [
    "# Creating the PV1MATH predictions using the model, and calculating the R^2 score and MSE as metrics of accuracy\n",
    "\n",
    "# results.predict() uses only the fixed effects, so the random effects per group are added\n",
    "fixed_pred = result.predict(PISA2018)\n",
    "re_pred = fixed_pred + np.concatenate(PISA2018['SchoolID'].map(result.random_effects))\n",
    "\n",
    "# Printing the accuracy metrics\n",
    "print(f'The R^2 score of the fixed effects model is: {r2_score(PISA2018[\"PV1MATH\"], fixed_pred)}')\n",
    "print(f'The MSE of the fixed effects model is: {mean_squared_error(PISA2018[\"PV1MATH\"], fixed_pred)}')\n",
    "\n",
    "print(f'The R^2 score of the model is: {r2_score(PISA2018[\"PV1MATH\"], re_pred)}')\n",
    "print(f'The MSE of the model is: {mean_squared_error(PISA2018[\"PV1MATH\"], re_pred)}')\n"
   ]
  },
  {
   "cell_type": "code",
   "execution_count": null,
   "metadata": {},
   "outputs": [],
   "source": [
    "# Plotting the predicitons of the training data in 3D\n",
    "# Black is the fixed effects, no random intercepts\n",
    "# Red is the fixed effects + random intercepts\n",
    "# Blue is the actual values\n",
    "fig = plt.figure()\n",
    "ax = fig.add_subplot(projection='3d')\n",
    "ax.view_init(elev=20, azim=30)\n",
    "ax.scatter3D(PISA2018[\"Female\"], PISA2018[\"ESCS\"], pred, s=0.2, c=\"black\")\n",
    "ax.scatter3D(PISA2018[\"Female\"], PISA2018[\"ESCS\"], PISA2018[\"PV1MATH\"], s=0.2)\n",
    "ax.scatter3D(PISA2018[\"Female\"], PISA2018[\"ESCS\"], pred_re, s=0.2, c=\"red\")\n",
    "ax.set_xlabel(\"Female\")\n",
    "ax.set_ylabel('ESCS')\n",
    "ax.set_zlabel(\"PV1MATH\")\n",
    "ax.set_xticks([0, 1])\n",
    "ax.set_box_aspect(None, zoom=0.85)\n",
    "plt.show()"
   ]
  }
 ],
 "metadata": {
  "kernelspec": {
   "display_name": "Python 3",
   "language": "python",
   "name": "python3"
  },
  "language_info": {
   "codemirror_mode": {
    "name": "ipython",
    "version": 3
   },
   "file_extension": ".py",
   "mimetype": "text/x-python",
   "name": "python",
   "nbconvert_exporter": "python",
   "pygments_lexer": "ipython3",
   "version": "3.11.5"
  }
 },
 "nbformat": 4,
 "nbformat_minor": 2
}
