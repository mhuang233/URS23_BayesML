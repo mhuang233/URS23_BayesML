{
 "cells": [
  {
   "cell_type": "markdown",
   "metadata": {},
   "source": [
    "# Bayesian Model Mixing and Optimization\n",
    "### Evan Edwards\n",
    "\n",
    "- Multivariate Mixing With The Following Models That Use Mixed-Informative Priors:\n",
    "    - PV1READ ~ Female + ESCS + HOMEPOS + ICTRES + (1 + ICTRES | SchoolID)\n",
    "    - PV1READ ~ JOYREAD + PISADIFF + SCREADCOMP + SCREADDIFF + (1|SchoolID)\n",
    "    - PV1READ ~ METASUM + GFOFAIL + MASTGOAL + SWBP + WORKMAST + ADAPTIVITY + COMPETE + (1|SchoolID)\n",
    "    - PV1READ ~ PERFEED + TEACHINT + BELONG + (1 + TEACHINT | SchoolID)\n",
    "- Sensitivity Analysis\n",
    "- Optimization"
   ]
  },
  {
   "cell_type": "code",
   "execution_count": 1,
   "metadata": {},
   "outputs": [
    {
     "name": "stderr",
     "output_type": "stream",
     "text": [
      "WARNING (pytensor.tensor.blas): Using NumPy C-API based implementation for BLAS functions.\n"
     ]
    }
   ],
   "source": [
    "from Taweret.core.base_model import BaseModel\n",
    "import numpy as np\n",
    "import pymc as pm\n",
    "import pandas as pd\n",
    "from sklearn.metrics import mean_squared_error\n",
    "from Taweret.core.base_mixer import BaseMixer\n",
    "from math import sqrt\n",
    "from scipy.optimize import minimize\n",
    "import logging"
   ]
  },
  {
   "cell_type": "code",
   "execution_count": 2,
   "metadata": {},
   "outputs": [],
   "source": [
    "#Fixed random seed to ensure reproducibility and the possiblility for optimization\n",
    "RANDOM_SEED = 9572404\n",
    "rng = np.random.default_rng(RANDOM_SEED)"
   ]
  },
  {
   "cell_type": "code",
   "execution_count": 3,
   "metadata": {},
   "outputs": [],
   "source": [
    "# Defining to disable output later for ease of visibility\n",
    "logger = logging.getLogger(\"pymc\")\n",
    "# Disabling sampling messages\n",
    "logger.setLevel(logging.ERROR)"
   ]
  },
  {
   "cell_type": "code",
   "execution_count": 4,
   "metadata": {},
   "outputs": [],
   "source": [
    "# Load dataset\n",
    "PISA2018 = pd.read_csv(\"pisa2018.BayesBook.csv\")\n",
    "# Data processing: converting categorical values to numerical values\n",
    "PISA2018['Female'] = PISA2018['Female'].replace({'Female': 1.0, 'Male': 0.0})\n",
    "# Converting numerical to categorical values\n",
    "PISA2018['SchoolID'] = pd.Categorical(PISA2018['SchoolID']).codes\n",
    "\n",
    "PISA2018 = PISA2018[[\"PV1READ\",\"Female\",\"ESCS\", \"HOMEPOS\", \"ICTRES\", \"JOYREAD\", \"WORKMAST\",\"PISADIFF\",\"TEACHINT\",\"BELONG\",\"SCREADCOMP\",\"SCREADDIFF\",\"METASUM\",\"GFOFAIL\",\"MASTGOAL\",\"SWBP\",\"ADAPTIVITY\",\"SchoolID\",\"COMPETE\",\"PERFEED\"]]"
   ]
  },
  {
   "cell_type": "code",
   "execution_count": 5,
   "metadata": {},
   "outputs": [
    {
     "name": "stdout",
     "output_type": "stream",
     "text": [
      "The RMSE for model 1 - PV1READ ~ Female + ESCS + HOMEPOS + ICTRES + (1 + ICTRES | SchoolID) is: 94.1704821196451\n",
      "CPU times: total: 21.6 s\n",
      "Wall time: 2min 19s\n"
     ]
    }
   ],
   "source": [
    "%%time\n",
    "#PV1READ ~ Female + ESCS + HOMEPOS + ICTRES + (1 + ICTRES | SchoolID)\n",
    "\n",
    "with pm.Model() as model1:\n",
    "    Female = pm.MutableData(\"Female\",PISA2018[\"Female\"])\n",
    "    ESCS = pm.MutableData(\"ESCS\", PISA2018[\"ESCS\"])\n",
    "    HOMEPOS = pm.MutableData(\"HOMEPOS\", PISA2018[\"HOMEPOS\"])\n",
    "    ICTRES = pm.MutableData(\"ICTRES\", PISA2018[\"ICTRES\"])\n",
    "    SchoolID = pm.MutableData(\"SchoolID\", PISA2018[\"SchoolID\"])\n",
    "\n",
    "    alpha = pm.Normal('alpha', mu=0, sigma=100)  # Intercept\n",
    "    beta_female = pm.Normal('beta_female', mu=0, sigma=10)  # Coefficient for Female\n",
    "    beta_escs = pm.Normal('beta_escs', mu=np.mean(PISA2018[\"ESCS\"]), sigma = np.std(PISA2018[\"ESCS\"]))  # Coefficient for ESCS\n",
    "    beta_homepos = pm.Normal('beta_homepos', mu=np.mean(PISA2018[\"HOMEPOS\"]), sigma=100)  # Coefficient for HOMEPOS\n",
    "    beta_ictres = pm.Normal('beta_ictres', mu=np.mean(PISA2018[\"ICTRES\"]), sigma=np.std(PISA2018[\"ICTRES\"]))  # Coefficient for ICTRES\n",
    "\n",
    "    sigma_school = pm.HalfNormal('sigma_school', sigma=100)\n",
    "    sigma_ictres = pm.HalfNormal('sigma_ictres', sigma=100)\n",
    "    intercept_school = pm.Normal('intercept_school', mu=0, sigma=sigma_school, shape=len(PISA2018[\"SchoolID\"].unique()))\n",
    "    random_ictres = pm.Normal('random_ictres', mu=0, sigma=sigma_ictres, shape=len(PISA2018[\"SchoolID\"].unique()))\n",
    "\n",
    "    PV1READ_mu = alpha + beta_female * Female + beta_escs * ESCS + beta_homepos * HOMEPOS\\\n",
    "        + beta_ictres * ICTRES + random_ictres[SchoolID] * ICTRES  + intercept_school[SchoolID]\n",
    "    PV1READ_sigma = pm.HalfNormal('PV1READ_sigma', sigma=10)\n",
    "\n",
    "    PV1READ = pm.Normal('PV1READ', mu=PV1READ_mu, sigma=PV1READ_sigma, observed=PISA2018['PV1READ'])\n",
    "    \n",
    "with model1:\n",
    "    trace1 = pm.sample(1000, tune=2000,random_seed=RANDOM_SEED, progressbar = False)\n",
    "\n",
    "with model1:\n",
    "    post_pred = pm.sample_posterior_predictive(trace1, random_seed=RANDOM_SEED, progressbar = False)\n",
    "pred = post_pred.posterior_predictive[\"PV1READ\"].mean(dim=[\"chain\", \"draw\"])\n",
    "\n",
    "print(f'The RMSE for model 1 - PV1READ ~ Female + ESCS + HOMEPOS + ICTRES + (1 + ICTRES | SchoolID) is: {sqrt(mean_squared_error(PISA2018[\"PV1READ\"], pred))}')"
   ]
  },
  {
   "cell_type": "code",
   "execution_count": 6,
   "metadata": {},
   "outputs": [
    {
     "name": "stdout",
     "output_type": "stream",
     "text": [
      "The RMSE for model 2 - PV1READ ~ JOYREAD + PISADIFF + SCREADCOMP + SCREADDIFF + (1|SchoolID) is: 86.03420433753293\n",
      "CPU times: total: 16.4 s\n",
      "Wall time: 1min 26s\n"
     ]
    }
   ],
   "source": [
    "%%time\n",
    "#PV1READ ~ JOYREAD + PISADIFF + SCREADCOMP + SCREADDIFF + (1|SchoolID)\n",
    "\n",
    "with pm.Model() as model2:\n",
    "    JOYREAD = pm.MutableData(\"JOYREAD\",PISA2018[\"JOYREAD\"])\n",
    "    PISADIFF = pm.MutableData(\"PISADIFF\", PISA2018[\"PISADIFF\"])\n",
    "    SCREADCOMP = pm.MutableData(\"SCREADCOMP\", PISA2018[\"SCREADCOMP\"])\n",
    "    SCREADDIFF = pm.MutableData(\"SCREADDIFF\", PISA2018[\"SCREADDIFF\"])\n",
    "    SchoolID = pm.MutableData(\"SchoolID\", PISA2018[\"SchoolID\"])\n",
    "\n",
    "    alpha = pm.Normal('alpha', mu=0, sigma=100)\n",
    "    beta_joyread = pm.Normal('beta_joyread', mu=np.mean(PISA2018[\"JOYREAD\"]), sigma=np.std(PISA2018[\"JOYREAD\"]))  # Coefficient for JOYREAD\n",
    "    beta_pisadiff = pm.Normal('beta_pisadiff', mu=0, sigma=100)  # Coefficient for PISADIFF\n",
    "    beta_screadcomp = pm.Normal('beta_screadcomp', mu=np.mean(PISA2018[\"SCREADCOMP\"]), sigma=10)  # Coefficient for SCREADCOMP\n",
    "    beta_screaddiff = pm.Normal('beta_screaddiff', mu=np.mean(PISA2018[\"SCREADDIFF\"]), sigma=np.std(PISA2018[\"SCREADDIFF\"]))  # Coefficient for SCREADDIFF\n",
    "\n",
    "    sigma_school = pm.HalfNormal('sigma_school', sigma=100)\n",
    "    intercept_school = pm.Normal('intercept_school', mu=0, sigma=sigma_school, shape=len(PISA2018[\"SchoolID\"].unique()))\n",
    "\n",
    "    PV1READ_mu = alpha + beta_joyread * JOYREAD + beta_pisadiff * PISADIFF + beta_screadcomp * SCREADCOMP\\\n",
    "        + beta_screaddiff * SCREADDIFF  + intercept_school[SchoolID]\n",
    "    PV1READ_sigma = pm.HalfNormal('PV1READ_sigma', sigma=10)\n",
    "    PV1READ = pm.Normal('PV1READ', mu=PV1READ_mu, sigma=PV1READ_sigma, observed=PISA2018['PV1READ'])\n",
    "    \n",
    "with model2:\n",
    "    trace2 = pm.sample(1000, tune=2000, random_seed=RANDOM_SEED, progressbar=False)\n",
    "\n",
    "with model2:\n",
    "    post_pred = pm.sample_posterior_predictive(trace2, random_seed=RANDOM_SEED, progressbar=False)\n",
    "pred = post_pred.posterior_predictive[\"PV1READ\"].mean(dim=[\"chain\", \"draw\"])\n",
    "\n",
    "print(f'The RMSE for model 2 - PV1READ ~ JOYREAD + PISADIFF + SCREADCOMP + SCREADDIFF + (1|SchoolID) is: {sqrt(mean_squared_error(PISA2018[\"PV1READ\"], pred))}')"
   ]
  },
  {
   "cell_type": "code",
   "execution_count": 7,
   "metadata": {},
   "outputs": [
    {
     "name": "stdout",
     "output_type": "stream",
     "text": [
      "The RMSE for model 3 - PV1READ ~ METASUM + GFOFAIL + MASTGOAL + SWBP + WORKMAST + ADAPTIVITY + COMPETE + (1|SchoolID) is: 91.295815765343\n",
      "CPU times: total: 20.4 s\n",
      "Wall time: 2min 2s\n"
     ]
    }
   ],
   "source": [
    "%%time\n",
    "#PV1READ ~ METASUM + GFOFAIL + MASTGOAL + SWBP + WORKMAST + ADAPTIVITY + COMPETE + (1|SchoolID) \n",
    "\n",
    "with pm.Model() as model3:\n",
    "    METASUM = pm.MutableData(\"METASUM\",PISA2018[\"METASUM\"])\n",
    "    GFOFAIL = pm.MutableData(\"GFOFAIL\", PISA2018[\"GFOFAIL\"])\n",
    "    MASTGOAL = pm.MutableData(\"MASTGOAL\", PISA2018[\"MASTGOAL\"])\n",
    "    SWBP = pm.MutableData(\"SWBP\", PISA2018[\"SWBP\"])\n",
    "    WORKMAST = pm.MutableData(\"WORKMAST\", PISA2018[\"WORKMAST\"])\n",
    "    ADAPTIVITY = pm.MutableData(\"ADAPTIVITY\", PISA2018[\"ADAPTIVITY\"])\n",
    "    COMPETE = pm.MutableData(\"COMPETE\", PISA2018[\"COMPETE\"])\n",
    "    SchoolID = pm.MutableData(\"SchoolID\", PISA2018[\"SchoolID\"])\n",
    "\n",
    "    alpha = pm.Normal('alpha', mu=0, sigma=100)  # Intercept\n",
    "    beta_metasum = pm.Normal('beta_metasum', mu=np.mean(PISA2018[\"METASUM\"]), sigma=np.std(PISA2018[\"METASUM\"]))  # Coefficient for METASUM\n",
    "    beta_gfofail = pm.Normal('beta_gfofail', mu=0, sigma=100)  # Coefficient for GFOFAIL\n",
    "    beta_mastgoal = pm.Normal('beta_mastgoal', mu=np.mean(PISA2018[\"MASTGOAL\"]), sigma=10)  # Coefficient for MASTGOAL\n",
    "    beta_swbp = pm.Normal('beta_swbp', mu=0, sigma=100)  # Coefficient for SWBP\n",
    "    beta_workmast = pm.Normal('beta_workmast', mu=np.mean(PISA2018[\"WORKMAST\"]), sigma=10)  # Coefficient for WORKMAST\n",
    "    beta_adaptivity = pm.Normal('beta_adaptivity', mu=np.mean(PISA2018[\"ADAPTIVITY\"]), sigma=100)  # Coefficient for ADAPTIVITY\n",
    "    beta_compete = pm.Normal('beta_compete', mu=np.mean(PISA2018[\"COMPETE\"]), sigma=np.std(PISA2018[\"COMPETE\"]))  # Coefficient for COMPETE\n",
    "\n",
    "    sigma_school = pm.HalfNormal('sigma_school', sigma=100)\n",
    "    intercept_school = pm.Normal('intercept_school', mu=0, sigma=sigma_school, shape=len(PISA2018[\"SchoolID\"].unique()))\n",
    "\n",
    "    PV1READ_mu = alpha + beta_metasum * METASUM + beta_gfofail * GFOFAIL + beta_mastgoal * MASTGOAL\\\n",
    "        + beta_swbp * SWBP + beta_workmast * WORKMAST + beta_adaptivity * ADAPTIVITY\\\n",
    "        + beta_compete * COMPETE  + intercept_school[SchoolID]\n",
    "    PV1READ_sigma = pm.HalfNormal('PV1READ_sigma', sigma=10)\n",
    "    PV1READ = pm.Normal('PV1READ', mu=PV1READ_mu, sigma=PV1READ_sigma, observed=PISA2018['PV1READ'])\n",
    "    \n",
    "\n",
    "with model3:    \n",
    "    trace3 = pm.sample(1000, tune=2000, random_seed=RANDOM_SEED, progressbar = False)\n",
    "\n",
    "with model3:\n",
    "    post_pred = pm.sample_posterior_predictive(trace3, random_seed=RANDOM_SEED, progressbar = False)\n",
    "pred = post_pred.posterior_predictive[\"PV1READ\"].mean(dim=[\"chain\", \"draw\"])\n",
    "\n",
    "print(f'The RMSE for model 3 - PV1READ ~ METASUM + GFOFAIL + MASTGOAL + SWBP + WORKMAST + ADAPTIVITY + COMPETE + (1|SchoolID) is: {sqrt(mean_squared_error(PISA2018[\"PV1READ\"], pred))}')"
   ]
  },
  {
   "cell_type": "code",
   "execution_count": 8,
   "metadata": {},
   "outputs": [
    {
     "name": "stdout",
     "output_type": "stream",
     "text": [
      "The RMSE for model 4 - PV1READ ~ PERFEED + TEACHINT + BELONG + (1 + TEACHINT | SchoolID) is: 94.72439565645705\n",
      "CPU times: total: 19.3 s\n",
      "Wall time: 2min 1s\n"
     ]
    }
   ],
   "source": [
    "%%time \n",
    "#PV1READ ~ PERFEED + TEACHINT + BELONG + (1 + TEACHINT | SchoolID)\n",
    "\n",
    "with pm.Model() as model4:\n",
    "    PERFEED = pm.MutableData(\"PERFEED\",PISA2018[\"PERFEED\"])\n",
    "    TEACHINT = pm.MutableData(\"TEACHINT\", PISA2018[\"TEACHINT\"])\n",
    "    BELONG = pm.MutableData(\"BELONG\", PISA2018[\"BELONG\"])\n",
    "    SchoolID = pm.MutableData(\"SchoolID\", PISA2018[\"SchoolID\"])\n",
    "\n",
    "    \n",
    "    alpha = pm.Normal('alpha', mu=0, sigma=100)\n",
    "    beta_perfeed = pm.Normal('beta_perfeed', mu = np.mean(PISA2018[\"PERFEED\"]), sigma = np.std(PISA2018[\"PERFEED\"]))  # Coefficient for PERFEED\n",
    "    beta_teachint = pm.Normal('beta_teachint', mu=np.mean(PISA2018[\"TEACHINT\"]), sigma = np.std(PISA2018[\"TEACHINT\"]))  # Coefficient for TEACHINT\n",
    "    beta_belong = pm.StudentT('beta_belong', nu = 1, mu=np.mean(PISA2018[\"BELONG\"]), sigma=100)  # Coefficient for BELONG\n",
    "\n",
    "    sigma_school = pm.HalfNormal('sigma_school', sigma=100)\n",
    "    sigma_teachint = pm.HalfNormal('sigma_teachint', sigma=100)\n",
    "    intercept_school = pm.Normal('intercept_school', mu=0, sigma=sigma_school, shape=len(PISA2018[\"SchoolID\"].unique()))\n",
    "    random_teachint = pm.Normal('random_teachint', mu=0, sigma=sigma_teachint, shape=len(PISA2018[\"SchoolID\"].unique()))\n",
    "\n",
    "    PV1READ_mu = alpha + beta_perfeed * PERFEED + beta_teachint * TEACHINT + beta_belong * BELONG\\\n",
    "        + random_teachint[SchoolID] * TEACHINT  + intercept_school[SchoolID]\n",
    "    PV1READ_sigma = pm.HalfNormal('PV1READ_sigma', sigma=10)\n",
    "    PV1READ = pm.Normal('PV1READ', mu=PV1READ_mu, sigma=PV1READ_sigma, observed=PISA2018['PV1READ'])\n",
    "    \n",
    "\n",
    "with model4:\n",
    "    trace4 = pm.sample(1000, tune=2000, random_seed=RANDOM_SEED, progressbar = False)\n",
    "\n",
    "with model4:\n",
    "    post_pred = pm.sample_posterior_predictive(trace4, random_seed=RANDOM_SEED, progressbar = False)\n",
    "pred = post_pred.posterior_predictive[\"PV1READ\"].mean(dim=[\"chain\", \"draw\"])\n",
    "\n",
    "print(f'The RMSE for model 4 - PV1READ ~ PERFEED + TEACHINT + BELONG + (1 + TEACHINT | SchoolID) is: {sqrt(mean_squared_error(PISA2018[\"PV1READ\"], pred))}')"
   ]
  },
  {
   "cell_type": "code",
   "execution_count": 9,
   "metadata": {},
   "outputs": [],
   "source": [
    "# A wrapper class for the PYMC models to be compatible with the Taweret framework\n",
    "class PYMCWrapper(BaseModel):\n",
    "    def __init__(self, model, trace, pred_value):\n",
    "        self.pymcmodel = model\n",
    "        self.trace = trace\n",
    "        self.pred_value = pred_value\n",
    "\n",
    "\n",
    "    def evaluate(self, model_parameters):\n",
    "        with self.pymcmodel:\n",
    "            for entry in model_parameters:\n",
    "                try:\n",
    "                    pm.set_data(entry)\n",
    "                except:\n",
    "                    pass\n",
    "            post_pred = pm.sample_posterior_predictive(self.trace, random_seed=RANDOM_SEED, progressbar = False)\n",
    "\n",
    "        return np.array(post_pred.posterior_predictive[self.pred_value].mean(dim=[\"chain\", \"draw\"]).data),\\\n",
    "                np.sqrt(np.array(post_pred.posterior_predictive[self.pred_value].var(dim=[\"chain\", \"draw\"]))).flatten()\n",
    "\n",
    "    \n",
    "    def log_likelihood_elementwise(self,x_exp, y_exp, y_err, model_params):\n",
    "        y = self.evaluate(model_params)[0]\n",
    "        \n",
    "        return np.exp(-(y - y_exp) **2 / (2 * y_err ** 2)) \\\n",
    "            / np.sqrt(2 * np.pi * y_err ** 2)\n",
    "    \n",
    "\n",
    "    def set_prior(self, prior_dict):\n",
    "        pass"
   ]
  },
  {
   "cell_type": "code",
   "execution_count": 10,
   "metadata": {},
   "outputs": [],
   "source": [
    "# A rudimentary mixer class that can assign weights to the models and optimize them, a child class of BaseMixer\n",
    "# Many abstract methods need to be defined, however they are not implemented becuase they are not needed\n",
    "\n",
    "class WeightableMultivariate(BaseMixer):\n",
    "    models = {}\n",
    "    weights = []\n",
    "    \n",
    "    def __init__(self, weights, models):\n",
    "        self.weights = weights\n",
    "        self.models = models\n",
    "\n",
    "\n",
    "    def set_params(self, weights):\n",
    "        self.weights = weights\n",
    "\n",
    "        return self\n",
    "\n",
    "\n",
    "    def predict(self, X):\n",
    "        cumulative_predictions = 0\n",
    "        \n",
    "        for x in range(0,len(self.weights)):\n",
    "            model_prediction, _ = self.models[str(x+1)].evaluate(X)\n",
    "            cumulative_predictions += model_prediction * self.weights[x]\n",
    "        \n",
    "        return cumulative_predictions\n",
    "    \n",
    "\n",
    "    def train(self):\n",
    "        def objective(params):\n",
    "            self.set_params(params)\n",
    "            predictions = self.predict(PISA2018)\n",
    "            rmse = sqrt(np.mean((predictions - PISA2018[\"PV1READ\"])**2))\n",
    "            return rmse\n",
    "\n",
    "        initial_params = [0.25, 0.25, 0.25, 0.25]\n",
    "        constraints = ({'type': 'eq', 'fun': lambda x : np.sum(x) - 1.0})\n",
    "\n",
    "        result = minimize(objective, initial_params, constraints=constraints, bounds = [(0,1),(0,1),(0,1),(0,1)])\n",
    "\n",
    "        optimized_params = result.x\n",
    "        self.weights = optimized_params\n",
    "\n",
    "        return self\n",
    "\n",
    "\n",
    "    def evaluate_weights(self):\n",
    "        return self.weights\n",
    "    \n",
    "    def set_prior(self):\n",
    "        pass\n",
    "\n",
    "    def prior_predict(self):\n",
    "        pass\n",
    "    \n",
    "    def prior(self):\n",
    "        pass\n",
    "\n",
    "    def predict_weights(self):\n",
    "        pass\n",
    "\n",
    "    def posterior(self):\n",
    "        pass\n",
    "\n",
    "    def map(Self):\n",
    "        pass\n",
    "\n",
    "    def evaluate(self):\n",
    "        pass"
   ]
  },
  {
   "cell_type": "code",
   "execution_count": 11,
   "metadata": {},
   "outputs": [],
   "source": [
    "# Defining an instance of the custom mixer class\n",
    "\n",
    "mixer = WeightableMultivariate([0.25, 0.25, 0.25, 0.25],\n",
    "        {   \"1\": PYMCWrapper(model1, trace1, \"PV1READ\"),\n",
    "            \"2\": PYMCWrapper(model2, trace2, \"PV1READ\"),\n",
    "            \"3\": PYMCWrapper(model3, trace3, \"PV1READ\"),\n",
    "            \"4\": PYMCWrapper(model4, trace4, \"PV1READ\"),})"
   ]
  },
  {
   "cell_type": "code",
   "execution_count": 12,
   "metadata": {},
   "outputs": [
    {
     "name": "stdout",
     "output_type": "stream",
     "text": [
      "The RMSE score of params [0.25, 0.25, 0.25, 0.25]: 88.52351256444122\n",
      "The RMSE score of params [0.05, 0.6, 0.3, 0.05]: 85.32572099433558\n",
      "The RMSE score of params [0.4, 0.15, 0.05, 0.4]: 90.78010264543477\n",
      "The RMSE score of params [0.1, 0.35, 0.2, 0.35]: 87.74592616247894\n",
      "The RMSE score of params [0.1, 0.2, 0.3, 0.4]: 89.24260717561856\n",
      "The RMSE score of params [0.1, 0.2, 0.5, 0.2]: 88.55116524640515\n"
     ]
    }
   ],
   "source": [
    "# Basic sensitivity analysis, iterating through a set of predefined weights\n",
    "\n",
    "for x in [[0.25, 0.25, 0.25, 0.25],\n",
    "          [0.05, 0.6, 0.3, 0.05],\n",
    "          [0.4, 0.15, 0.05, 0.4],\n",
    "          [0.1, 0.35, 0.2, 0.35],\n",
    "          [0.1, 0.2, 0.3, 0.4],\n",
    "          [0.1, 0.2, 0.5, 0.2]]:\n",
    "    \n",
    "    mixer.set_params(x)\n",
    "    \n",
    "    print(f'The RMSE score of params {mixer.weights}: {((sqrt(mean_squared_error(PISA2018[\"PV1READ\"], mixer.predict(PISA2018)))))}')"
   ]
  },
  {
   "cell_type": "code",
   "execution_count": 13,
   "metadata": {},
   "outputs": [
    {
     "name": "stdout",
     "output_type": "stream",
     "text": [
      "The RMSE score of the optimized parameters [5.29404280e-16 7.10540047e-01 2.89459953e-01 3.73165648e-16]: 84.94837685986303\n"
     ]
    }
   ],
   "source": [
    "# Finding optimized parameters\n",
    "\n",
    "mixer.train()\n",
    "\n",
    "print(f'The RMSE score of the optimized parameters {mixer.evaluate_weights()}: {((sqrt(mean_squared_error(PISA2018[\"PV1READ\"], mixer.predict(PISA2018)))))}')"
   ]
  },
  {
   "cell_type": "markdown",
   "metadata": {},
   "source": [
    "[1.85200173e-16 7.12366185e-01 2.87633815e-01 1.65963739e-15]: 85.01453016147077"
   ]
  },
  {
   "cell_type": "markdown",
   "metadata": {},
   "source": [
    "[1.85200173e-16 7.12366185e-01 2.87633815e-01 1.65963739e-15]: 85.01453016147077"
   ]
  }
 ],
 "metadata": {
  "kernelspec": {
   "display_name": "Python 3",
   "language": "python",
   "name": "python3"
  },
  "language_info": {
   "codemirror_mode": {
    "name": "ipython",
    "version": 3
   },
   "file_extension": ".py",
   "mimetype": "text/x-python",
   "name": "python",
   "nbconvert_exporter": "python",
   "pygments_lexer": "ipython3",
   "version": "3.11.5"
  }
 },
 "nbformat": 4,
 "nbformat_minor": 2
}
